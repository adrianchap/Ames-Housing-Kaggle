{
 "cells": [
  {
   "cell_type": "code",
   "execution_count": 175,
   "metadata": {},
   "outputs": [],
   "source": [
    "import pandas as pd\n",
    "import numpy as np\n",
    "import matplotlib.pyplot as plt\n",
    "import seaborn as sns\n",
    "\n",
    "from sklearn.model_selection import train_test_split, cross_val_score, GridSearchCV\n",
    "from sklearn.preprocessing import StandardScaler, PolynomialFeatures\n",
    "\n",
    "from sklearn.metrics import r2_score, mean_squared_error\n",
    "from sklearn.linear_model import LinearRegression, Ridge, Lasso, RidgeCV, LassoCV\n",
    "\n"
   ]
  },
  {
   "cell_type": "code",
   "execution_count": 176,
   "metadata": {},
   "outputs": [],
   "source": [
    "df = pd.read_csv('../datasets/train_clean_features.csv')"
   ]
  },
  {
   "cell_type": "code",
   "execution_count": 177,
   "metadata": {},
   "outputs": [
    {
     "data": {
      "text/html": [
       "<div>\n",
       "<style scoped>\n",
       "    .dataframe tbody tr th:only-of-type {\n",
       "        vertical-align: middle;\n",
       "    }\n",
       "\n",
       "    .dataframe tbody tr th {\n",
       "        vertical-align: top;\n",
       "    }\n",
       "\n",
       "    .dataframe thead th {\n",
       "        text-align: right;\n",
       "    }\n",
       "</style>\n",
       "<table border=\"1\" class=\"dataframe\">\n",
       "  <thead>\n",
       "    <tr style=\"text-align: right;\">\n",
       "      <th></th>\n",
       "      <th>Id</th>\n",
       "      <th>Lot Frontage</th>\n",
       "      <th>Lot Area</th>\n",
       "      <th>Lot Shape</th>\n",
       "      <th>Utilities</th>\n",
       "      <th>Land Slope</th>\n",
       "      <th>Overall Qual</th>\n",
       "      <th>Overall Cond</th>\n",
       "      <th>Year Built</th>\n",
       "      <th>Year Remod/Add</th>\n",
       "      <th>...</th>\n",
       "      <th>Mo Sold_7</th>\n",
       "      <th>Mo Sold_8</th>\n",
       "      <th>Mo Sold_9</th>\n",
       "      <th>Mo Sold_10</th>\n",
       "      <th>Mo Sold_11</th>\n",
       "      <th>Mo Sold_12</th>\n",
       "      <th>Yr Sold_2007</th>\n",
       "      <th>Yr Sold_2008</th>\n",
       "      <th>Yr Sold_2009</th>\n",
       "      <th>Yr Sold_2010</th>\n",
       "    </tr>\n",
       "  </thead>\n",
       "  <tbody>\n",
       "    <tr>\n",
       "      <th>0</th>\n",
       "      <td>109</td>\n",
       "      <td>0.0</td>\n",
       "      <td>13517</td>\n",
       "      <td>3</td>\n",
       "      <td>4</td>\n",
       "      <td>3</td>\n",
       "      <td>6</td>\n",
       "      <td>8</td>\n",
       "      <td>1976</td>\n",
       "      <td>2005</td>\n",
       "      <td>...</td>\n",
       "      <td>0</td>\n",
       "      <td>0</td>\n",
       "      <td>0</td>\n",
       "      <td>0</td>\n",
       "      <td>0</td>\n",
       "      <td>0</td>\n",
       "      <td>0</td>\n",
       "      <td>0</td>\n",
       "      <td>0</td>\n",
       "      <td>1</td>\n",
       "    </tr>\n",
       "    <tr>\n",
       "      <th>1</th>\n",
       "      <td>544</td>\n",
       "      <td>43.0</td>\n",
       "      <td>11492</td>\n",
       "      <td>3</td>\n",
       "      <td>4</td>\n",
       "      <td>3</td>\n",
       "      <td>7</td>\n",
       "      <td>5</td>\n",
       "      <td>1996</td>\n",
       "      <td>1997</td>\n",
       "      <td>...</td>\n",
       "      <td>0</td>\n",
       "      <td>0</td>\n",
       "      <td>0</td>\n",
       "      <td>0</td>\n",
       "      <td>0</td>\n",
       "      <td>0</td>\n",
       "      <td>0</td>\n",
       "      <td>0</td>\n",
       "      <td>1</td>\n",
       "      <td>0</td>\n",
       "    </tr>\n",
       "    <tr>\n",
       "      <th>2</th>\n",
       "      <td>153</td>\n",
       "      <td>68.0</td>\n",
       "      <td>7922</td>\n",
       "      <td>4</td>\n",
       "      <td>4</td>\n",
       "      <td>3</td>\n",
       "      <td>5</td>\n",
       "      <td>7</td>\n",
       "      <td>1953</td>\n",
       "      <td>2007</td>\n",
       "      <td>...</td>\n",
       "      <td>0</td>\n",
       "      <td>0</td>\n",
       "      <td>0</td>\n",
       "      <td>0</td>\n",
       "      <td>0</td>\n",
       "      <td>0</td>\n",
       "      <td>0</td>\n",
       "      <td>0</td>\n",
       "      <td>0</td>\n",
       "      <td>1</td>\n",
       "    </tr>\n",
       "    <tr>\n",
       "      <th>3</th>\n",
       "      <td>318</td>\n",
       "      <td>73.0</td>\n",
       "      <td>9802</td>\n",
       "      <td>4</td>\n",
       "      <td>4</td>\n",
       "      <td>3</td>\n",
       "      <td>5</td>\n",
       "      <td>5</td>\n",
       "      <td>2006</td>\n",
       "      <td>2007</td>\n",
       "      <td>...</td>\n",
       "      <td>0</td>\n",
       "      <td>0</td>\n",
       "      <td>0</td>\n",
       "      <td>0</td>\n",
       "      <td>0</td>\n",
       "      <td>0</td>\n",
       "      <td>0</td>\n",
       "      <td>0</td>\n",
       "      <td>0</td>\n",
       "      <td>1</td>\n",
       "    </tr>\n",
       "    <tr>\n",
       "      <th>4</th>\n",
       "      <td>255</td>\n",
       "      <td>82.0</td>\n",
       "      <td>14235</td>\n",
       "      <td>3</td>\n",
       "      <td>4</td>\n",
       "      <td>3</td>\n",
       "      <td>6</td>\n",
       "      <td>8</td>\n",
       "      <td>1900</td>\n",
       "      <td>1993</td>\n",
       "      <td>...</td>\n",
       "      <td>0</td>\n",
       "      <td>0</td>\n",
       "      <td>0</td>\n",
       "      <td>0</td>\n",
       "      <td>0</td>\n",
       "      <td>0</td>\n",
       "      <td>0</td>\n",
       "      <td>0</td>\n",
       "      <td>0</td>\n",
       "      <td>1</td>\n",
       "    </tr>\n",
       "  </tbody>\n",
       "</table>\n",
       "<p>5 rows × 234 columns</p>\n",
       "</div>"
      ],
      "text/plain": [
       "    Id  Lot Frontage  Lot Area  Lot Shape  Utilities  Land Slope  \\\n",
       "0  109           0.0     13517          3          4           3   \n",
       "1  544          43.0     11492          3          4           3   \n",
       "2  153          68.0      7922          4          4           3   \n",
       "3  318          73.0      9802          4          4           3   \n",
       "4  255          82.0     14235          3          4           3   \n",
       "\n",
       "   Overall Qual  Overall Cond  Year Built  Year Remod/Add  ...  Mo Sold_7  \\\n",
       "0             6             8        1976            2005  ...          0   \n",
       "1             7             5        1996            1997  ...          0   \n",
       "2             5             7        1953            2007  ...          0   \n",
       "3             5             5        2006            2007  ...          0   \n",
       "4             6             8        1900            1993  ...          0   \n",
       "\n",
       "   Mo Sold_8  Mo Sold_9  Mo Sold_10  Mo Sold_11  Mo Sold_12  Yr Sold_2007  \\\n",
       "0          0          0           0           0           0             0   \n",
       "1          0          0           0           0           0             0   \n",
       "2          0          0           0           0           0             0   \n",
       "3          0          0           0           0           0             0   \n",
       "4          0          0           0           0           0             0   \n",
       "\n",
       "   Yr Sold_2008  Yr Sold_2009  Yr Sold_2010  \n",
       "0             0             0             1  \n",
       "1             0             1             0  \n",
       "2             0             0             1  \n",
       "3             0             0             1  \n",
       "4             0             0             1  \n",
       "\n",
       "[5 rows x 234 columns]"
      ]
     },
     "execution_count": 177,
     "metadata": {},
     "output_type": "execute_result"
    }
   ],
   "source": [
    "df.head()"
   ]
  },
  {
   "cell_type": "code",
   "execution_count": 178,
   "metadata": {},
   "outputs": [],
   "source": [
    "# Drop Id column\n",
    "df.drop(columns='Id', inplace=True)"
   ]
  },
  {
   "cell_type": "code",
   "execution_count": 179,
   "metadata": {},
   "outputs": [],
   "source": [
    "# Set X and y\n",
    "X = df.drop(columns=['SalePrice'])\n",
    "y = df['SalePrice']"
   ]
  },
  {
   "cell_type": "code",
   "execution_count": 180,
   "metadata": {},
   "outputs": [
    {
     "data": {
      "text/plain": [
       "(2047, 232)"
      ]
     },
     "execution_count": 180,
     "metadata": {},
     "output_type": "execute_result"
    }
   ],
   "source": [
    "X.shape"
   ]
  },
  {
   "cell_type": "code",
   "execution_count": 181,
   "metadata": {},
   "outputs": [],
   "source": [
    "y_log = np.log(y)"
   ]
  },
  {
   "cell_type": "code",
   "execution_count": 182,
   "metadata": {},
   "outputs": [
    {
     "data": {
      "text/plain": [
       "(2047, 27260)"
      ]
     },
     "execution_count": 182,
     "metadata": {},
     "output_type": "execute_result"
    }
   ],
   "source": [
    "# Instantiate our PolynomialFeatures object to create all two-way terms.\n",
    "poly = PolynomialFeatures(degree=2, interaction_only=False, include_bias=False)\n",
    "\n",
    "# Fit and transform our X data.\n",
    "X_overfit = poly.fit_transform(X)\n",
    "\n",
    "X_overfit.shape"
   ]
  },
  {
   "cell_type": "code",
   "execution_count": 183,
   "metadata": {},
   "outputs": [
    {
     "data": {
      "text/plain": [
       "(2047, 27260)"
      ]
     },
     "execution_count": 183,
     "metadata": {},
     "output_type": "execute_result"
    }
   ],
   "source": [
    "X_overfit = pd.DataFrame(X_overfit,columns=poly.get_feature_names(X.columns))\n",
    "\n",
    "\n",
    "X_overfit.shape"
   ]
  },
  {
   "cell_type": "code",
   "execution_count": 184,
   "metadata": {},
   "outputs": [
    {
     "data": {
      "text/plain": [
       "['Overall Qual Gr Liv Area',\n",
       " 'Overall Qual Year Built',\n",
       " 'Overall Qual Year Remod/Add',\n",
       " 'Overall Qual',\n",
       " 'Utilities Overall Qual',\n",
       " 'Overall Qual Electrical',\n",
       " 'Overall Qual Kitchen Qual',\n",
       " 'Overall Qual Street_Pave',\n",
       " 'Bsmt Qual Gr Liv Area',\n",
       " 'Overall Qual^2',\n",
       " 'Overall Qual Total Bath',\n",
       " 'Overall Qual Exter Qual',\n",
       " 'Exter Qual Gr Liv Area',\n",
       " 'Overall Qual Bsmt Qual',\n",
       " 'Overall Qual Garage Cars',\n",
       " 'Gr Liv Area Kitchen Qual',\n",
       " 'Overall Qual 1st Flr SF']"
      ]
     },
     "execution_count": 184,
     "metadata": {},
     "output_type": "execute_result"
    }
   ],
   "source": [
    "cor = X_overfit.corrwith(y_log)\n",
    "#Correlation with target variable\n",
    "cor_target = abs(cor)\n",
    "\n",
    "#selecting features with correlation strength of 0.2 or above\n",
    "relevant_features = cor_target[cor_target>0.8].sort_values(ascending=False)\n",
    "relevant_features = list(relevant_features.index)\n",
    "X_overfit_heat = X_overfit[relevant_features]\n",
    "#relevant_features\n",
    "relevant_features"
   ]
  },
  {
   "cell_type": "code",
   "execution_count": 185,
   "metadata": {},
   "outputs": [],
   "source": [
    "X_overfit_heat = X_overfit_heat.merge(y_log, left_index=True, right_index=True)\n"
   ]
  },
  {
   "cell_type": "code",
   "execution_count": 186,
   "metadata": {},
   "outputs": [],
   "source": [
    "poly_features = relevant_features[0:3]"
   ]
  },
  {
   "cell_type": "code",
   "execution_count": 187,
   "metadata": {},
   "outputs": [
    {
     "data": {
      "image/png": "[encoded data removed]",
      "text/plain": [
       "<Figure size 864x864 with 2 Axes>"
      ]
     },
     "metadata": {
      "needs_background": "light"
     },
     "output_type": "display_data"
    }
   ],
   "source": [
    "\n",
    "plt.figure(figsize = (12, 12))\n",
    "corr = X_overfit_heat.corr()\n",
    "corr_sort = corr.sort_values(by = ['SalePrice'], axis = 0, ascending = False)\n",
    "corr_sort\n",
    "sns.heatmap(corr_sort[['SalePrice']], annot=True, vmin = .5, vmax=1)\n",
    "plt.title('Correlation between Polynomial Features and Sale Price')\n",
    "plt.subplots_adjust(left=0.3)\n",
    "\n",
    "plt.savefig(\"../figs/poly_corr_heatmap.png\");\n",
    "\n"
   ]
  },
  {
   "cell_type": "code",
   "execution_count": 188,
   "metadata": {},
   "outputs": [
    {
     "data": {
      "text/html": [
       "<div>\n",
       "<style scoped>\n",
       "    .dataframe tbody tr th:only-of-type {\n",
       "        vertical-align: middle;\n",
       "    }\n",
       "\n",
       "    .dataframe tbody tr th {\n",
       "        vertical-align: top;\n",
       "    }\n",
       "\n",
       "    .dataframe thead th {\n",
       "        text-align: right;\n",
       "    }\n",
       "</style>\n",
       "<table border=\"1\" class=\"dataframe\">\n",
       "  <thead>\n",
       "    <tr style=\"text-align: right;\">\n",
       "      <th></th>\n",
       "      <th>Lot Frontage</th>\n",
       "      <th>Lot Area</th>\n",
       "      <th>Lot Shape</th>\n",
       "      <th>Utilities</th>\n",
       "      <th>Land Slope</th>\n",
       "      <th>Overall Qual</th>\n",
       "      <th>Overall Cond</th>\n",
       "      <th>Year Built</th>\n",
       "      <th>Year Remod/Add</th>\n",
       "      <th>Mas Vnr Area</th>\n",
       "      <th>...</th>\n",
       "      <th>Yr Sold_2007^2</th>\n",
       "      <th>Yr Sold_2007 Yr Sold_2008</th>\n",
       "      <th>Yr Sold_2007 Yr Sold_2009</th>\n",
       "      <th>Yr Sold_2007 Yr Sold_2010</th>\n",
       "      <th>Yr Sold_2008^2</th>\n",
       "      <th>Yr Sold_2008 Yr Sold_2009</th>\n",
       "      <th>Yr Sold_2008 Yr Sold_2010</th>\n",
       "      <th>Yr Sold_2009^2</th>\n",
       "      <th>Yr Sold_2009 Yr Sold_2010</th>\n",
       "      <th>Yr Sold_2010^2</th>\n",
       "    </tr>\n",
       "  </thead>\n",
       "  <tbody>\n",
       "    <tr>\n",
       "      <th>0</th>\n",
       "      <td>0.0</td>\n",
       "      <td>13517.0</td>\n",
       "      <td>3.0</td>\n",
       "      <td>4.0</td>\n",
       "      <td>3.0</td>\n",
       "      <td>6.0</td>\n",
       "      <td>8.0</td>\n",
       "      <td>1976.0</td>\n",
       "      <td>2005.0</td>\n",
       "      <td>289.0</td>\n",
       "      <td>...</td>\n",
       "      <td>0.0</td>\n",
       "      <td>0.0</td>\n",
       "      <td>0.0</td>\n",
       "      <td>0.0</td>\n",
       "      <td>0.0</td>\n",
       "      <td>0.0</td>\n",
       "      <td>0.0</td>\n",
       "      <td>0.0</td>\n",
       "      <td>0.0</td>\n",
       "      <td>1.0</td>\n",
       "    </tr>\n",
       "    <tr>\n",
       "      <th>1</th>\n",
       "      <td>43.0</td>\n",
       "      <td>11492.0</td>\n",
       "      <td>3.0</td>\n",
       "      <td>4.0</td>\n",
       "      <td>3.0</td>\n",
       "      <td>7.0</td>\n",
       "      <td>5.0</td>\n",
       "      <td>1996.0</td>\n",
       "      <td>1997.0</td>\n",
       "      <td>132.0</td>\n",
       "      <td>...</td>\n",
       "      <td>0.0</td>\n",
       "      <td>0.0</td>\n",
       "      <td>0.0</td>\n",
       "      <td>0.0</td>\n",
       "      <td>0.0</td>\n",
       "      <td>0.0</td>\n",
       "      <td>0.0</td>\n",
       "      <td>1.0</td>\n",
       "      <td>0.0</td>\n",
       "      <td>0.0</td>\n",
       "    </tr>\n",
       "    <tr>\n",
       "      <th>2</th>\n",
       "      <td>68.0</td>\n",
       "      <td>7922.0</td>\n",
       "      <td>4.0</td>\n",
       "      <td>4.0</td>\n",
       "      <td>3.0</td>\n",
       "      <td>5.0</td>\n",
       "      <td>7.0</td>\n",
       "      <td>1953.0</td>\n",
       "      <td>2007.0</td>\n",
       "      <td>0.0</td>\n",
       "      <td>...</td>\n",
       "      <td>0.0</td>\n",
       "      <td>0.0</td>\n",
       "      <td>0.0</td>\n",
       "      <td>0.0</td>\n",
       "      <td>0.0</td>\n",
       "      <td>0.0</td>\n",
       "      <td>0.0</td>\n",
       "      <td>0.0</td>\n",
       "      <td>0.0</td>\n",
       "      <td>1.0</td>\n",
       "    </tr>\n",
       "    <tr>\n",
       "      <th>3</th>\n",
       "      <td>73.0</td>\n",
       "      <td>9802.0</td>\n",
       "      <td>4.0</td>\n",
       "      <td>4.0</td>\n",
       "      <td>3.0</td>\n",
       "      <td>5.0</td>\n",
       "      <td>5.0</td>\n",
       "      <td>2006.0</td>\n",
       "      <td>2007.0</td>\n",
       "      <td>0.0</td>\n",
       "      <td>...</td>\n",
       "      <td>0.0</td>\n",
       "      <td>0.0</td>\n",
       "      <td>0.0</td>\n",
       "      <td>0.0</td>\n",
       "      <td>0.0</td>\n",
       "      <td>0.0</td>\n",
       "      <td>0.0</td>\n",
       "      <td>0.0</td>\n",
       "      <td>0.0</td>\n",
       "      <td>1.0</td>\n",
       "    </tr>\n",
       "    <tr>\n",
       "      <th>4</th>\n",
       "      <td>82.0</td>\n",
       "      <td>14235.0</td>\n",
       "      <td>3.0</td>\n",
       "      <td>4.0</td>\n",
       "      <td>3.0</td>\n",
       "      <td>6.0</td>\n",
       "      <td>8.0</td>\n",
       "      <td>1900.0</td>\n",
       "      <td>1993.0</td>\n",
       "      <td>0.0</td>\n",
       "      <td>...</td>\n",
       "      <td>0.0</td>\n",
       "      <td>0.0</td>\n",
       "      <td>0.0</td>\n",
       "      <td>0.0</td>\n",
       "      <td>0.0</td>\n",
       "      <td>0.0</td>\n",
       "      <td>0.0</td>\n",
       "      <td>0.0</td>\n",
       "      <td>0.0</td>\n",
       "      <td>1.0</td>\n",
       "    </tr>\n",
       "  </tbody>\n",
       "</table>\n",
       "<p>5 rows × 27260 columns</p>\n",
       "</div>"
      ],
      "text/plain": [
       "   Lot Frontage  Lot Area  Lot Shape  Utilities  Land Slope  Overall Qual  \\\n",
       "0           0.0   13517.0        3.0        4.0         3.0           6.0   \n",
       "1          43.0   11492.0        3.0        4.0         3.0           7.0   \n",
       "2          68.0    7922.0        4.0        4.0         3.0           5.0   \n",
       "3          73.0    9802.0        4.0        4.0         3.0           5.0   \n",
       "4          82.0   14235.0        3.0        4.0         3.0           6.0   \n",
       "\n",
       "   Overall Cond  Year Built  Year Remod/Add  Mas Vnr Area  ...  \\\n",
       "0           8.0      1976.0          2005.0         289.0  ...   \n",
       "1           5.0      1996.0          1997.0         132.0  ...   \n",
       "2           7.0      1953.0          2007.0           0.0  ...   \n",
       "3           5.0      2006.0          2007.0           0.0  ...   \n",
       "4           8.0      1900.0          1993.0           0.0  ...   \n",
       "\n",
       "   Yr Sold_2007^2  Yr Sold_2007 Yr Sold_2008  Yr Sold_2007 Yr Sold_2009  \\\n",
       "0             0.0                        0.0                        0.0   \n",
       "1             0.0                        0.0                        0.0   \n",
       "2             0.0                        0.0                        0.0   \n",
       "3             0.0                        0.0                        0.0   \n",
       "4             0.0                        0.0                        0.0   \n",
       "\n",
       "   Yr Sold_2007 Yr Sold_2010  Yr Sold_2008^2  Yr Sold_2008 Yr Sold_2009  \\\n",
       "0                        0.0             0.0                        0.0   \n",
       "1                        0.0             0.0                        0.0   \n",
       "2                        0.0             0.0                        0.0   \n",
       "3                        0.0             0.0                        0.0   \n",
       "4                        0.0             0.0                        0.0   \n",
       "\n",
       "   Yr Sold_2008 Yr Sold_2010  Yr Sold_2009^2  Yr Sold_2009 Yr Sold_2010  \\\n",
       "0                        0.0             0.0                        0.0   \n",
       "1                        0.0             1.0                        0.0   \n",
       "2                        0.0             0.0                        0.0   \n",
       "3                        0.0             0.0                        0.0   \n",
       "4                        0.0             0.0                        0.0   \n",
       "\n",
       "   Yr Sold_2010^2  \n",
       "0             1.0  \n",
       "1             0.0  \n",
       "2             1.0  \n",
       "3             1.0  \n",
       "4             1.0  \n",
       "\n",
       "[5 rows x 27260 columns]"
      ]
     },
     "execution_count": 188,
     "metadata": {},
     "output_type": "execute_result"
    }
   ],
   "source": [
    "X_overfit.head()"
   ]
  },
  {
   "cell_type": "code",
   "execution_count": 189,
   "metadata": {},
   "outputs": [
    {
     "data": {
      "text/html": [
       "<div>\n",
       "<style scoped>\n",
       "    .dataframe tbody tr th:only-of-type {\n",
       "        vertical-align: middle;\n",
       "    }\n",
       "\n",
       "    .dataframe tbody tr th {\n",
       "        vertical-align: top;\n",
       "    }\n",
       "\n",
       "    .dataframe thead th {\n",
       "        text-align: right;\n",
       "    }\n",
       "</style>\n",
       "<table border=\"1\" class=\"dataframe\">\n",
       "  <thead>\n",
       "    <tr style=\"text-align: right;\">\n",
       "      <th></th>\n",
       "      <th>Overall Qual Gr Liv Area</th>\n",
       "      <th>Overall Qual Year Built</th>\n",
       "      <th>Overall Qual Year Remod/Add</th>\n",
       "    </tr>\n",
       "  </thead>\n",
       "  <tbody>\n",
       "    <tr>\n",
       "      <th>0</th>\n",
       "      <td>8874.0</td>\n",
       "      <td>11856.0</td>\n",
       "      <td>12030.0</td>\n",
       "    </tr>\n",
       "    <tr>\n",
       "      <th>1</th>\n",
       "      <td>14854.0</td>\n",
       "      <td>13972.0</td>\n",
       "      <td>13979.0</td>\n",
       "    </tr>\n",
       "    <tr>\n",
       "      <th>2</th>\n",
       "      <td>5285.0</td>\n",
       "      <td>9765.0</td>\n",
       "      <td>10035.0</td>\n",
       "    </tr>\n",
       "    <tr>\n",
       "      <th>3</th>\n",
       "      <td>7220.0</td>\n",
       "      <td>10030.0</td>\n",
       "      <td>10035.0</td>\n",
       "    </tr>\n",
       "    <tr>\n",
       "      <th>4</th>\n",
       "      <td>8670.0</td>\n",
       "      <td>11400.0</td>\n",
       "      <td>11958.0</td>\n",
       "    </tr>\n",
       "    <tr>\n",
       "      <th>...</th>\n",
       "      <td>...</td>\n",
       "      <td>...</td>\n",
       "      <td>...</td>\n",
       "    </tr>\n",
       "    <tr>\n",
       "      <th>2042</th>\n",
       "      <td>13824.0</td>\n",
       "      <td>16056.0</td>\n",
       "      <td>16056.0</td>\n",
       "    </tr>\n",
       "    <tr>\n",
       "      <th>2043</th>\n",
       "      <td>3444.0</td>\n",
       "      <td>7760.0</td>\n",
       "      <td>7800.0</td>\n",
       "    </tr>\n",
       "    <tr>\n",
       "      <th>2044</th>\n",
       "      <td>11478.0</td>\n",
       "      <td>11568.0</td>\n",
       "      <td>11700.0</td>\n",
       "    </tr>\n",
       "    <tr>\n",
       "      <th>2045</th>\n",
       "      <td>4800.0</td>\n",
       "      <td>7824.0</td>\n",
       "      <td>7824.0</td>\n",
       "    </tr>\n",
       "    <tr>\n",
       "      <th>2046</th>\n",
       "      <td>12628.0</td>\n",
       "      <td>13993.0</td>\n",
       "      <td>13993.0</td>\n",
       "    </tr>\n",
       "  </tbody>\n",
       "</table>\n",
       "<p>2047 rows × 3 columns</p>\n",
       "</div>"
      ],
      "text/plain": [
       "      Overall Qual Gr Liv Area  Overall Qual Year Built  \\\n",
       "0                       8874.0                  11856.0   \n",
       "1                      14854.0                  13972.0   \n",
       "2                       5285.0                   9765.0   \n",
       "3                       7220.0                  10030.0   \n",
       "4                       8670.0                  11400.0   \n",
       "...                        ...                      ...   \n",
       "2042                   13824.0                  16056.0   \n",
       "2043                    3444.0                   7760.0   \n",
       "2044                   11478.0                  11568.0   \n",
       "2045                    4800.0                   7824.0   \n",
       "2046                   12628.0                  13993.0   \n",
       "\n",
       "      Overall Qual Year Remod/Add  \n",
       "0                         12030.0  \n",
       "1                         13979.0  \n",
       "2                         10035.0  \n",
       "3                         10035.0  \n",
       "4                         11958.0  \n",
       "...                           ...  \n",
       "2042                      16056.0  \n",
       "2043                       7800.0  \n",
       "2044                      11700.0  \n",
       "2045                       7824.0  \n",
       "2046                      13993.0  \n",
       "\n",
       "[2047 rows x 3 columns]"
      ]
     },
     "execution_count": 189,
     "metadata": {},
     "output_type": "execute_result"
    }
   ],
   "source": [
    "X_poly_features = X_overfit[poly_features]\n",
    "X_poly_features"
   ]
  },
  {
   "cell_type": "code",
   "execution_count": 190,
   "metadata": {},
   "outputs": [],
   "source": [
    "X = X.merge(X_poly_features, left_index=True, right_index=True)"
   ]
  },
  {
   "cell_type": "code",
   "execution_count": 191,
   "metadata": {},
   "outputs": [
    {
     "data": {
      "text/plain": [
       "(2047, 235)"
      ]
     },
     "execution_count": 191,
     "metadata": {},
     "output_type": "execute_result"
    }
   ],
   "source": [
    "X.shape"
   ]
  },
  {
   "cell_type": "code",
   "execution_count": 192,
   "metadata": {},
   "outputs": [
    {
     "data": {
      "image/png": "[encoded data removed]",
      "text/plain": [
       "<Figure size 720x360 with 1 Axes>"
      ]
     },
     "metadata": {
      "needs_background": "light"
     },
     "output_type": "display_data"
    }
   ],
   "source": [
    "\n",
    "# Size\n",
    "plt.figure(figsize = (10, 5))\n",
    "# Plot it\n",
    "# colors: https://matplotlib.org/3.1.0/gallery/color/named_colors.html\n",
    "plt.hist(y, color = 'purple', alpha=0.3, bins=20)\n",
    "#df_train['SalePrice'].plot(kind = \"kde\", color='purple')\n",
    "\n",
    "\n",
    "\n",
    "\n",
    "# Create a descriptive title\n",
    "plt.title('Distribution of housing sale price')\n",
    "# Do we need axis lables here?\n",
    "plt.xlabel('Sale Price $')\n",
    "\n",
    "plt.savefig('../figs/price_hist.png')"
   ]
  },
  {
   "cell_type": "code",
   "execution_count": 193,
   "metadata": {},
   "outputs": [
    {
     "data": {
      "image/png": "[encoded data removed]",
      "text/plain": [
       "<Figure size 720x360 with 1 Axes>"
      ]
     },
     "metadata": {
      "needs_background": "light"
     },
     "output_type": "display_data"
    }
   ],
   "source": [
    "\n",
    "# Size\n",
    "plt.figure(figsize = (10, 5))\n",
    "# Plot it\n",
    "# colors: https://matplotlib.org/3.1.0/gallery/color/named_colors.html\n",
    "plt.hist(y_log, color = 'purple', alpha=0.3, bins=20)\n",
    "#df_train['SalePrice'].plot(kind = \"kde\", color='purple')\n",
    "\n",
    "\n",
    "\n",
    "\n",
    "# Create a descriptive title\n",
    "plt.title('Distribution of log of housing sale price')\n",
    "# Do we need axis lables here?\n",
    "plt.xlabel('Log of Sale Price $')\n",
    "\n",
    "plt.savefig('../figs/log_price_hist.png')"
   ]
  },
  {
   "cell_type": "code",
   "execution_count": 194,
   "metadata": {},
   "outputs": [],
   "source": [
    "# Perform Train test split\n",
    "X_train, X_test, y_train, y_test = train_test_split(X,y,random_state=13)\n",
    "\n",
    "#Standardize training and test set\n",
    "ss = StandardScaler()\n",
    "X_train_sc = ss.fit_transform(X_train)\n",
    "X_test_sc = ss.transform(X_test)"
   ]
  },
  {
   "cell_type": "code",
   "execution_count": 195,
   "metadata": {},
   "outputs": [],
   "source": [
    "# Log transform Y_train and y_test\n",
    "y_train_log = np.log(y_train)\n",
    "y_test_log = np.log(y_test)"
   ]
  },
  {
   "cell_type": "code",
   "execution_count": 196,
   "metadata": {},
   "outputs": [],
   "source": [
    "# Import models\n",
    "from sklearn.linear_model import RidgeCV"
   ]
  },
  {
   "cell_type": "code",
   "execution_count": 197,
   "metadata": {},
   "outputs": [],
   "source": [
    "# Set up a list of ridge alphas to check.\n",
    "# np.logspace generates 100 values equally between 0 and 5,\n",
    "# then converts them to alphas between 10^0 and 10^5.\n",
    "\n",
    "r_alphas = np.logspace(0, 5, 100)\n",
    "\n",
    "# Cross-validate over our list of ridge alphas.\n",
    "\n",
    "ridge_cv = RidgeCV(alphas=r_alphas, scoring='r2', cv=5) # 5-fold CV\n",
    "\n",
    "# Fit model using best ridge alpha!\n",
    "ridge_cv.fit(X_train_sc, y_train_log);\n",
    "\n",
    "# This code is from 4.02-lesson-regularization"
   ]
  },
  {
   "cell_type": "code",
   "execution_count": 198,
   "metadata": {},
   "outputs": [
    {
     "data": {
      "text/plain": [
       "422.9242874389499"
      ]
     },
     "execution_count": 198,
     "metadata": {},
     "output_type": "execute_result"
    }
   ],
   "source": [
    "# Here is the optimal value of alpha\n",
    "ridge_cv.alpha_"
   ]
  },
  {
   "cell_type": "code",
   "execution_count": 199,
   "metadata": {},
   "outputs": [
    {
     "name": "stdout",
     "output_type": "stream",
     "text": [
      "Training score:  0.9286145550322674\n",
      "Test score:  0.9246278190639229\n"
     ]
    }
   ],
   "source": [
    "print('Training score: ', ridge_cv.score(X_train_sc, y_train_log))\n",
    "print('Test score: ', ridge_cv.score(X_test_sc, y_test_log))"
   ]
  },
  {
   "cell_type": "code",
   "execution_count": 202,
   "metadata": {},
   "outputs": [],
   "source": [
    "y_pred = ridge_cv.predict(X_test_sc)"
   ]
  },
  {
   "cell_type": "code",
   "execution_count": 203,
   "metadata": {},
   "outputs": [],
   "source": [
    "resids = y_test_log - y_pred"
   ]
  },
  {
   "cell_type": "code",
   "execution_count": 205,
   "metadata": {},
   "outputs": [
    {
     "data": {
      "text/plain": [
       "21075.533775296994"
      ]
     },
     "execution_count": 205,
     "metadata": {},
     "output_type": "execute_result"
    }
   ],
   "source": [
    "np.sqrt(mean_squared_error(np.exp(y_test_log), np.exp(y_pred)))"
   ]
  },
  {
   "cell_type": "code",
   "execution_count": 120,
   "metadata": {},
   "outputs": [
    {
     "data": {
      "image/png": "[encoded data removed]",
      "text/plain": [
       "<Figure size 432x288 with 1 Axes>"
      ]
     },
     "metadata": {
      "needs_background": "light"
     },
     "output_type": "display_data"
    }
   ],
   "source": [
    "\n",
    "plt.hist(resids, bins=50);"
   ]
  },
  {
   "cell_type": "code",
   "execution_count": 121,
   "metadata": {},
   "outputs": [
    {
     "data": {
      "image/png": "[encoded data removed]",
      "text/plain": [
       "<Figure size 432x288 with 1 Axes>"
      ]
     },
     "metadata": {
      "needs_background": "light"
     },
     "output_type": "display_data"
    }
   ],
   "source": [
    "plt.scatter(y_pred, resids, s=1)\n",
    "plt.axhline(0, color=\"orange\");"
   ]
  },
  {
   "cell_type": "code",
   "execution_count": 134,
   "metadata": {},
   "outputs": [
    {
     "data": {
      "text/plain": [
       "''"
      ]
     },
     "execution_count": 134,
     "metadata": {},
     "output_type": "execute_result"
    },
    {
     "data": {
      "image/png": "[encoded data removed]",
      "text/plain": [
       "<Figure size 720x576 with 1 Axes>"
      ]
     },
     "metadata": {
      "needs_background": "light"
     },
     "output_type": "display_data"
    }
   ],
   "source": [
    "plt.figure(figsize=(10,8))\n",
    "plt.scatter(np.exp(y_test_log), np.exp(y_pred), color = 'purple', alpha=.3)\n",
    "plt.xlabel('Actual Values')\n",
    "plt.ylabel('Predicted Values')\n",
    "plt.plot([0,np.max(np.exp(y_test_log))],[0,np.max(np.exp(y_pred))], color = 'purple')\n",
    "plt.savefig('../figs/pred_vs_actual.png')\n",
    ";\n"
   ]
  },
  {
   "cell_type": "markdown",
   "metadata": {},
   "source": [
    "# Lasso"
   ]
  },
  {
   "cell_type": "code",
   "execution_count": 501,
   "metadata": {},
   "outputs": [
    {
     "data": {
      "text/html": [
       "<div>\n",
       "<style scoped>\n",
       "    .dataframe tbody tr th:only-of-type {\n",
       "        vertical-align: middle;\n",
       "    }\n",
       "\n",
       "    .dataframe tbody tr th {\n",
       "        vertical-align: top;\n",
       "    }\n",
       "\n",
       "    .dataframe thead th {\n",
       "        text-align: right;\n",
       "    }\n",
       "</style>\n",
       "<table border=\"1\" class=\"dataframe\">\n",
       "  <thead>\n",
       "    <tr style=\"text-align: right;\">\n",
       "      <th></th>\n",
       "      <th>Feature</th>\n",
       "      <th>Coef</th>\n",
       "    </tr>\n",
       "  </thead>\n",
       "  <tbody>\n",
       "    <tr>\n",
       "      <th>90</th>\n",
       "      <td>Bldg Type_Twnhs</td>\n",
       "      <td>-0.013067</td>\n",
       "    </tr>\n",
       "    <tr>\n",
       "      <th>33</th>\n",
       "      <td>MS SubClass_30</td>\n",
       "      <td>-0.013020</td>\n",
       "    </tr>\n",
       "    <tr>\n",
       "      <th>93</th>\n",
       "      <td>Heating_Grav</td>\n",
       "      <td>-0.012967</td>\n",
       "    </tr>\n",
       "    <tr>\n",
       "      <th>60</th>\n",
       "      <td>MS Zoning_C (all)</td>\n",
       "      <td>-0.012292</td>\n",
       "    </tr>\n",
       "    <tr>\n",
       "      <th>51</th>\n",
       "      <td>Neighborhood_OldTown</td>\n",
       "      <td>-0.010501</td>\n",
       "    </tr>\n",
       "    <tr>\n",
       "      <th>...</th>\n",
       "      <td>...</td>\n",
       "      <td>...</td>\n",
       "    </tr>\n",
       "    <tr>\n",
       "      <th>10</th>\n",
       "      <td>Year Remod/Add</td>\n",
       "      <td>0.027253</td>\n",
       "    </tr>\n",
       "    <tr>\n",
       "      <th>64</th>\n",
       "      <td>Functional</td>\n",
       "      <td>0.030506</td>\n",
       "    </tr>\n",
       "    <tr>\n",
       "      <th>19</th>\n",
       "      <td>BsmtFin SF 1</td>\n",
       "      <td>0.031849</td>\n",
       "    </tr>\n",
       "    <tr>\n",
       "      <th>0</th>\n",
       "      <td>Overall Qual</td>\n",
       "      <td>0.095568</td>\n",
       "    </tr>\n",
       "    <tr>\n",
       "      <th>1</th>\n",
       "      <td>Gr Liv Area</td>\n",
       "      <td>0.118439</td>\n",
       "    </tr>\n",
       "  </tbody>\n",
       "</table>\n",
       "<p>116 rows × 2 columns</p>\n",
       "</div>"
      ],
      "text/plain": [
       "                 Feature      Coef\n",
       "90       Bldg Type_Twnhs -0.013067\n",
       "33        MS SubClass_30 -0.013020\n",
       "93          Heating_Grav -0.012967\n",
       "60     MS Zoning_C (all) -0.012292\n",
       "51  Neighborhood_OldTown -0.010501\n",
       "..                   ...       ...\n",
       "10        Year Remod/Add  0.027253\n",
       "64            Functional  0.030506\n",
       "19          BsmtFin SF 1  0.031849\n",
       "0           Overall Qual  0.095568\n",
       "1            Gr Liv Area  0.118439\n",
       "\n",
       "[116 rows x 2 columns]"
      ]
     },
     "execution_count": 501,
     "metadata": {},
     "output_type": "execute_result"
    }
   ],
   "source": [
    "pd.DataFrame(zip(X.columns, lasso_cv.coef_), columns=['Feature', 'Coef']).sort_values('Coef')"
   ]
  },
  {
   "cell_type": "code",
   "execution_count": 135,
   "metadata": {},
   "outputs": [
    {
     "data": {
      "text/plain": [
       "LassoCV(alphas=array([0.001     , 0.00107227, 0.00114976, 0.00123285, 0.00132194,\n",
       "       0.00141747, 0.00151991, 0.00162975, 0.00174753, 0.00187382,\n",
       "       0.00200923, 0.00215443, 0.00231013, 0.00247708, 0.00265609,\n",
       "       0.00284804, 0.00305386, 0.00327455, 0.00351119, 0.00376494,\n",
       "       0.00403702, 0.00432876, 0.00464159, 0.00497702, 0.0053367 ,\n",
       "       0.00572237, 0.00613591, 0.00657933, 0.0070548 , 0.00756463,\n",
       "       0.008...\n",
       "       0.09326033, 0.1       , 0.10722672, 0.1149757 , 0.12328467,\n",
       "       0.13219411, 0.14174742, 0.15199111, 0.16297508, 0.17475284,\n",
       "       0.18738174, 0.2009233 , 0.21544347, 0.23101297, 0.24770764,\n",
       "       0.26560878, 0.28480359, 0.30538555, 0.32745492, 0.35111917,\n",
       "       0.37649358, 0.40370173, 0.43287613, 0.46415888, 0.49770236,\n",
       "       0.53366992, 0.57223677, 0.61359073, 0.65793322, 0.70548023,\n",
       "       0.75646333, 0.81113083, 0.869749  , 0.93260335, 1.        ]),\n",
       "        cv=5, max_iter=50000)"
      ]
     },
     "execution_count": 135,
     "metadata": {},
     "output_type": "execute_result"
    }
   ],
   "source": [
    "# Set up a list of Lasso alphas to check.\n",
    "\n",
    "l_alphas = np.logspace(-3, 0, 100)\n",
    "\n",
    "# Cross-validate over our list of Lasso alphas.\n",
    "\n",
    "lasso_cv = LassoCV(alphas=l_alphas, cv=5, max_iter=50000)\n",
    "\n",
    "# Fit model using best ridge alpha!\n",
    "\n",
    "lasso_cv.fit(X_train_sc, y_train_log)"
   ]
  },
  {
   "cell_type": "code",
   "execution_count": 137,
   "metadata": {},
   "outputs": [
    {
     "data": {
      "text/html": [
       "<div>\n",
       "<style scoped>\n",
       "    .dataframe tbody tr th:only-of-type {\n",
       "        vertical-align: middle;\n",
       "    }\n",
       "\n",
       "    .dataframe tbody tr th {\n",
       "        vertical-align: top;\n",
       "    }\n",
       "\n",
       "    .dataframe thead th {\n",
       "        text-align: right;\n",
       "    }\n",
       "</style>\n",
       "<table border=\"1\" class=\"dataframe\">\n",
       "  <thead>\n",
       "    <tr style=\"text-align: right;\">\n",
       "      <th></th>\n",
       "      <th>coef val</th>\n",
       "    </tr>\n",
       "    <tr>\n",
       "      <th>var</th>\n",
       "      <th></th>\n",
       "    </tr>\n",
       "  </thead>\n",
       "  <tbody>\n",
       "    <tr>\n",
       "      <th>Gr Liv Area</th>\n",
       "      <td>0.115330</td>\n",
       "    </tr>\n",
       "    <tr>\n",
       "      <th>Overall Qual Year Built</th>\n",
       "      <td>0.086937</td>\n",
       "    </tr>\n",
       "    <tr>\n",
       "      <th>Overall Cond</th>\n",
       "      <td>0.038943</td>\n",
       "    </tr>\n",
       "    <tr>\n",
       "      <th>BsmtFin SF 1</th>\n",
       "      <td>0.031503</td>\n",
       "    </tr>\n",
       "    <tr>\n",
       "      <th>Total Bsmt SF</th>\n",
       "      <td>0.026489</td>\n",
       "    </tr>\n",
       "  </tbody>\n",
       "</table>\n",
       "</div>"
      ],
      "text/plain": [
       "                         coef val\n",
       "var                              \n",
       "Gr Liv Area              0.115330\n",
       "Overall Qual Year Built  0.086937\n",
       "Overall Cond             0.038943\n",
       "BsmtFin SF 1             0.031503\n",
       "Total Bsmt SF            0.026489"
      ]
     },
     "execution_count": 137,
     "metadata": {},
     "output_type": "execute_result"
    }
   ],
   "source": [
    "# fitted attribute\n",
    "pd.DataFrame({\n",
    "    'var': X.columns,\n",
    "    'coef val': lasso_cv.coef_\n",
    "}).set_index('var').sort_values('coef val', ascending=False).head(5)"
   ]
  },
  {
   "cell_type": "code",
   "execution_count": 502,
   "metadata": {},
   "outputs": [
    {
     "data": {
      "text/plain": [
       "0.002848035868435802"
      ]
     },
     "execution_count": 502,
     "metadata": {},
     "output_type": "execute_result"
    }
   ],
   "source": [
    "# Here is the optimal value of alpha\n",
    "lasso_cv.alpha_"
   ]
  },
  {
   "cell_type": "code",
   "execution_count": 163,
   "metadata": {},
   "outputs": [],
   "source": [
    "# From Caroline today \n",
    "coef_df = pd.DataFrame({\n",
    "    'Variable': X.columns,\n",
    "    'Coef Value': lasso_cv.coef_\n",
    "})\n",
    "coef_df['abs coef val'] = abs(coef_df['Coef Value'])\n",
    "coef_df = coef_df[coef_df['Coef Value'] != 0].sort_values('abs coef val', ascending = False).head(20)\n",
    "coef_df = coef_df[['Variable', 'Coef Value']]\n",
    "coef_df.set_index('Variable', inplace=True)\n"
   ]
  },
  {
   "cell_type": "code",
   "execution_count": 173,
   "metadata": {},
   "outputs": [
    {
     "data": {
      "text/plain": [
       "<Figure size 720x720 with 0 Axes>"
      ]
     },
     "metadata": {},
     "output_type": "display_data"
    },
    {
     "data": {
      "image/png": "[encoded data removed]",
      "text/plain": [
       "<Figure size 720x720 with 1 Axes>"
      ]
     },
     "metadata": {
      "needs_background": "light"
     },
     "output_type": "display_data"
    }
   ],
   "source": [
    "plt.figure(figsize = (10,10))\n",
    "coef_df.plot.bar(color='purple', alpha = .3, figsize=(10,10))\n",
    "plt.grid(axis='y')\n",
    "\n",
    "# rotate lable names\n",
    "plt.xticks(rotation = 70)\n",
    "plt.xlabel('Variable')\n",
    "plt.ylabel('Coeficient Value')\n",
    "\n",
    "# title\n",
    "plt.title('Highest Lasso Coeficient Values');\n",
    "plt.savefig(\"../figs/lasso_coefs.png\")"
   ]
  },
  {
   "cell_type": "code",
   "execution_count": 206,
   "metadata": {},
   "outputs": [
    {
     "name": "stdout",
     "output_type": "stream",
     "text": [
      "Training score:  0.9271579077473413\n",
      "Test score:  0.929105401935364\n"
     ]
    }
   ],
   "source": [
    "print('Training score: ', lasso_cv.score(X_train_sc, y_train_log))\n",
    "print('Test score: ', lasso_cv.score(X_test_sc, y_test_log))"
   ]
  },
  {
   "cell_type": "code",
   "execution_count": 207,
   "metadata": {},
   "outputs": [],
   "source": [
    "y_pred_lasso = lasso_cv.predict(X_test_sc)"
   ]
  },
  {
   "cell_type": "code",
   "execution_count": 208,
   "metadata": {},
   "outputs": [],
   "source": [
    "lasso_resids = y_test_log - y_pred"
   ]
  },
  {
   "cell_type": "code",
   "execution_count": 209,
   "metadata": {},
   "outputs": [
    {
     "data": {
      "text/plain": [
       "20909.813572341725"
      ]
     },
     "execution_count": 209,
     "metadata": {},
     "output_type": "execute_result"
    }
   ],
   "source": [
    "np.sqrt(mean_squared_error(np.exp(y_test_log), np.exp(y_pred_lasso)))"
   ]
  },
  {
   "cell_type": "markdown",
   "metadata": {},
   "source": [
    "# Linear Regression"
   ]
  },
  {
   "cell_type": "code",
   "execution_count": 212,
   "metadata": {},
   "outputs": [],
   "source": [
    "lm_features = ['Gr Liv Area', 'Overall Qual', 'Year Built', 'Age when sold', 'Overall Cond', 'BsmtFin SF 1',\n",
    "              'Total Bsmt SF', 'Functional', '1st Flr SF', 'Lot Area', 'Total Bath', 'Garage Cars', 'Heating QC',\n",
    "              'Exter Qual',  'Neighborhood_Blueste','Neighborhood_BrDale','Neighborhood_BrkSide',\n",
    "               'Neighborhood_ClearCr','Neighborhood_CollgCr','Neighborhood_Crawfor','Neighborhood_Edwards',\n",
    "               'Neighborhood_Gilbert','Neighborhood_Greens','Neighborhood_GrnHill','Neighborhood_IDOTRR','Neighborhood_Landmrk',\n",
    "               'Neighborhood_MeadowV','Neighborhood_Mitchel','Neighborhood_NAmes','Neighborhood_NPkVill','Neighborhood_NWAmes',\n",
    "               'Neighborhood_NoRidge','Neighborhood_NridgHt','Neighborhood_OldTown','Neighborhood_SWISU','Neighborhood_Sawyer',\n",
    "               'Neighborhood_SawyerW','Neighborhood_Somerst','Neighborhood_StoneBr','Neighborhood_Timber',\n",
    "               'Neighborhood_Veenker']"
   ]
  },
  {
   "cell_type": "code",
   "execution_count": 213,
   "metadata": {},
   "outputs": [],
   "source": [
    "lm_X = X[lm_features]"
   ]
  },
  {
   "cell_type": "code",
   "execution_count": 214,
   "metadata": {},
   "outputs": [],
   "source": [
    "X_train, X_test, y_train, y_test = train_test_split(lm_X, y, random_state=13)"
   ]
  },
  {
   "cell_type": "code",
   "execution_count": 215,
   "metadata": {},
   "outputs": [],
   "source": [
    "lr = LinearRegression()"
   ]
  },
  {
   "cell_type": "code",
   "execution_count": 216,
   "metadata": {},
   "outputs": [
    {
     "data": {
      "text/plain": [
       "LinearRegression()"
      ]
     },
     "execution_count": 216,
     "metadata": {},
     "output_type": "execute_result"
    }
   ],
   "source": [
    "lr.fit(X_train, y_train)"
   ]
  },
  {
   "cell_type": "code",
   "execution_count": 217,
   "metadata": {},
   "outputs": [
    {
     "data": {
      "text/plain": [
       "0.892241724288846"
      ]
     },
     "execution_count": 217,
     "metadata": {},
     "output_type": "execute_result"
    }
   ],
   "source": [
    "lr.score(X_train, y_train)"
   ]
  },
  {
   "cell_type": "code",
   "execution_count": 218,
   "metadata": {},
   "outputs": [
    {
     "data": {
      "text/plain": [
       "0.87724582847362"
      ]
     },
     "execution_count": 218,
     "metadata": {},
     "output_type": "execute_result"
    }
   ],
   "source": [
    "lr.score(X_test, y_test)"
   ]
  },
  {
   "cell_type": "code",
   "execution_count": 221,
   "metadata": {},
   "outputs": [],
   "source": [
    "y_pred_lr = lr.predict(X_test)"
   ]
  },
  {
   "cell_type": "code",
   "execution_count": 222,
   "metadata": {},
   "outputs": [
    {
     "data": {
      "text/plain": [
       "26950.693818819593"
      ]
     },
     "execution_count": 222,
     "metadata": {},
     "output_type": "execute_result"
    }
   ],
   "source": [
    "np.sqrt(mean_squared_error(y_test, y_pred_lr))"
   ]
  },
  {
   "cell_type": "code",
   "execution_count": 224,
   "metadata": {},
   "outputs": [
    {
     "data": {
      "text/html": [
       "<div>\n",
       "<style scoped>\n",
       "    .dataframe tbody tr th:only-of-type {\n",
       "        vertical-align: middle;\n",
       "    }\n",
       "\n",
       "    .dataframe tbody tr th {\n",
       "        vertical-align: top;\n",
       "    }\n",
       "\n",
       "    .dataframe thead th {\n",
       "        text-align: right;\n",
       "    }\n",
       "</style>\n",
       "<table border=\"1\" class=\"dataframe\">\n",
       "  <thead>\n",
       "    <tr style=\"text-align: right;\">\n",
       "      <th></th>\n",
       "      <th>0</th>\n",
       "    </tr>\n",
       "  </thead>\n",
       "  <tbody>\n",
       "    <tr>\n",
       "      <th>Gr Liv Area</th>\n",
       "      <td>53.743799</td>\n",
       "    </tr>\n",
       "    <tr>\n",
       "      <th>Overall Qual</th>\n",
       "      <td>10344.606246</td>\n",
       "    </tr>\n",
       "    <tr>\n",
       "      <th>Year Built</th>\n",
       "      <td>-609.528020</td>\n",
       "    </tr>\n",
       "    <tr>\n",
       "      <th>Age when sold</th>\n",
       "      <td>-929.661457</td>\n",
       "    </tr>\n",
       "    <tr>\n",
       "      <th>Overall Cond</th>\n",
       "      <td>5729.474632</td>\n",
       "    </tr>\n",
       "    <tr>\n",
       "      <th>BsmtFin SF 1</th>\n",
       "      <td>27.944067</td>\n",
       "    </tr>\n",
       "    <tr>\n",
       "      <th>Total Bsmt SF</th>\n",
       "      <td>16.295463</td>\n",
       "    </tr>\n",
       "    <tr>\n",
       "      <th>Functional</th>\n",
       "      <td>5687.973137</td>\n",
       "    </tr>\n",
       "    <tr>\n",
       "      <th>1st Flr SF</th>\n",
       "      <td>14.754433</td>\n",
       "    </tr>\n",
       "    <tr>\n",
       "      <th>Lot Area</th>\n",
       "      <td>1.028590</td>\n",
       "    </tr>\n",
       "    <tr>\n",
       "      <th>Total Bath</th>\n",
       "      <td>-622.061587</td>\n",
       "    </tr>\n",
       "    <tr>\n",
       "      <th>Garage Cars</th>\n",
       "      <td>7062.027298</td>\n",
       "    </tr>\n",
       "    <tr>\n",
       "      <th>Heating QC</th>\n",
       "      <td>1887.197460</td>\n",
       "    </tr>\n",
       "    <tr>\n",
       "      <th>Exter Qual</th>\n",
       "      <td>16901.983093</td>\n",
       "    </tr>\n",
       "    <tr>\n",
       "      <th>Neighborhood_Blueste</th>\n",
       "      <td>10824.808833</td>\n",
       "    </tr>\n",
       "    <tr>\n",
       "      <th>Neighborhood_BrDale</th>\n",
       "      <td>8417.842784</td>\n",
       "    </tr>\n",
       "    <tr>\n",
       "      <th>Neighborhood_BrkSide</th>\n",
       "      <td>20487.684234</td>\n",
       "    </tr>\n",
       "    <tr>\n",
       "      <th>Neighborhood_ClearCr</th>\n",
       "      <td>10691.201707</td>\n",
       "    </tr>\n",
       "    <tr>\n",
       "      <th>Neighborhood_CollgCr</th>\n",
       "      <td>11540.826961</td>\n",
       "    </tr>\n",
       "    <tr>\n",
       "      <th>Neighborhood_Crawfor</th>\n",
       "      <td>26385.465739</td>\n",
       "    </tr>\n",
       "    <tr>\n",
       "      <th>Neighborhood_Edwards</th>\n",
       "      <td>11004.586198</td>\n",
       "    </tr>\n",
       "    <tr>\n",
       "      <th>Neighborhood_Gilbert</th>\n",
       "      <td>12094.739087</td>\n",
       "    </tr>\n",
       "    <tr>\n",
       "      <th>Neighborhood_Greens</th>\n",
       "      <td>3473.190281</td>\n",
       "    </tr>\n",
       "    <tr>\n",
       "      <th>Neighborhood_GrnHill</th>\n",
       "      <td>98743.786471</td>\n",
       "    </tr>\n",
       "    <tr>\n",
       "      <th>Neighborhood_IDOTRR</th>\n",
       "      <td>15429.945603</td>\n",
       "    </tr>\n",
       "    <tr>\n",
       "      <th>Neighborhood_Landmrk</th>\n",
       "      <td>3379.881193</td>\n",
       "    </tr>\n",
       "    <tr>\n",
       "      <th>Neighborhood_MeadowV</th>\n",
       "      <td>8126.875451</td>\n",
       "    </tr>\n",
       "    <tr>\n",
       "      <th>Neighborhood_Mitchel</th>\n",
       "      <td>7428.840808</td>\n",
       "    </tr>\n",
       "    <tr>\n",
       "      <th>Neighborhood_NAmes</th>\n",
       "      <td>8351.723216</td>\n",
       "    </tr>\n",
       "    <tr>\n",
       "      <th>Neighborhood_NPkVill</th>\n",
       "      <td>5797.693305</td>\n",
       "    </tr>\n",
       "    <tr>\n",
       "      <th>Neighborhood_NWAmes</th>\n",
       "      <td>1993.554833</td>\n",
       "    </tr>\n",
       "    <tr>\n",
       "      <th>Neighborhood_NoRidge</th>\n",
       "      <td>38178.306618</td>\n",
       "    </tr>\n",
       "    <tr>\n",
       "      <th>Neighborhood_NridgHt</th>\n",
       "      <td>51558.796308</td>\n",
       "    </tr>\n",
       "    <tr>\n",
       "      <th>Neighborhood_OldTown</th>\n",
       "      <td>9755.417418</td>\n",
       "    </tr>\n",
       "    <tr>\n",
       "      <th>Neighborhood_SWISU</th>\n",
       "      <td>10757.311550</td>\n",
       "    </tr>\n",
       "    <tr>\n",
       "      <th>Neighborhood_Sawyer</th>\n",
       "      <td>10937.294163</td>\n",
       "    </tr>\n",
       "    <tr>\n",
       "      <th>Neighborhood_SawyerW</th>\n",
       "      <td>2479.597473</td>\n",
       "    </tr>\n",
       "    <tr>\n",
       "      <th>Neighborhood_Somerst</th>\n",
       "      <td>19820.213124</td>\n",
       "    </tr>\n",
       "    <tr>\n",
       "      <th>Neighborhood_StoneBr</th>\n",
       "      <td>69601.872774</td>\n",
       "    </tr>\n",
       "    <tr>\n",
       "      <th>Neighborhood_Timber</th>\n",
       "      <td>14216.353111</td>\n",
       "    </tr>\n",
       "    <tr>\n",
       "      <th>Neighborhood_Veenker</th>\n",
       "      <td>8806.479104</td>\n",
       "    </tr>\n",
       "  </tbody>\n",
       "</table>\n",
       "</div>"
      ],
      "text/plain": [
       "                                 0\n",
       "Gr Liv Area              53.743799\n",
       "Overall Qual          10344.606246\n",
       "Year Built             -609.528020\n",
       "Age when sold          -929.661457\n",
       "Overall Cond           5729.474632\n",
       "BsmtFin SF 1             27.944067\n",
       "Total Bsmt SF            16.295463\n",
       "Functional             5687.973137\n",
       "1st Flr SF               14.754433\n",
       "Lot Area                  1.028590\n",
       "Total Bath             -622.061587\n",
       "Garage Cars            7062.027298\n",
       "Heating QC             1887.197460\n",
       "Exter Qual            16901.983093\n",
       "Neighborhood_Blueste  10824.808833\n",
       "Neighborhood_BrDale    8417.842784\n",
       "Neighborhood_BrkSide  20487.684234\n",
       "Neighborhood_ClearCr  10691.201707\n",
       "Neighborhood_CollgCr  11540.826961\n",
       "Neighborhood_Crawfor  26385.465739\n",
       "Neighborhood_Edwards  11004.586198\n",
       "Neighborhood_Gilbert  12094.739087\n",
       "Neighborhood_Greens    3473.190281\n",
       "Neighborhood_GrnHill  98743.786471\n",
       "Neighborhood_IDOTRR   15429.945603\n",
       "Neighborhood_Landmrk   3379.881193\n",
       "Neighborhood_MeadowV   8126.875451\n",
       "Neighborhood_Mitchel   7428.840808\n",
       "Neighborhood_NAmes     8351.723216\n",
       "Neighborhood_NPkVill   5797.693305\n",
       "Neighborhood_NWAmes    1993.554833\n",
       "Neighborhood_NoRidge  38178.306618\n",
       "Neighborhood_NridgHt  51558.796308\n",
       "Neighborhood_OldTown   9755.417418\n",
       "Neighborhood_SWISU    10757.311550\n",
       "Neighborhood_Sawyer   10937.294163\n",
       "Neighborhood_SawyerW   2479.597473\n",
       "Neighborhood_Somerst  19820.213124\n",
       "Neighborhood_StoneBr  69601.872774\n",
       "Neighborhood_Timber   14216.353111\n",
       "Neighborhood_Veenker   8806.479104"
      ]
     },
     "execution_count": 224,
     "metadata": {},
     "output_type": "execute_result"
    }
   ],
   "source": [
    "pd.DataFrame(lr.coef_, index=lm_features)"
   ]
  },
  {
   "cell_type": "code",
   "execution_count": 220,
   "metadata": {},
   "outputs": [
    {
     "data": {
      "text/plain": [
       "[('Gr Liv Area', 53.74379887110022),\n",
       " ('Overall Qual', 10344.606245637446),\n",
       " ('Year Built', -609.5280199345299),\n",
       " ('Age when sold', -929.6614573139419),\n",
       " ('Overall Cond', 5729.4746322732635),\n",
       " ('BsmtFin SF 1', 27.944066551280837),\n",
       " ('Total Bsmt SF', 16.295463396039178),\n",
       " ('Functional', 5687.973137322837),\n",
       " ('1st Flr SF', 14.754433406761349),\n",
       " ('Lot Area', 1.0285902109580316),\n",
       " ('Total Bath', -622.0615870464256),\n",
       " ('Garage Cars', 7062.027298377657),\n",
       " ('Heating QC', 1887.1974599259675),\n",
       " ('Exter Qual', 16901.98309317917),\n",
       " ('Neighborhood_Blueste', 10824.808833125284),\n",
       " ('Neighborhood_BrDale', 8417.8427836485),\n",
       " ('Neighborhood_BrkSide', 20487.684234432312),\n",
       " ('Neighborhood_ClearCr', 10691.201707374197),\n",
       " ('Neighborhood_CollgCr', 11540.826961239993),\n",
       " ('Neighborhood_Crawfor', 26385.465738845265),\n",
       " ('Neighborhood_Edwards', 11004.586197523251),\n",
       " ('Neighborhood_Gilbert', 12094.739086695798),\n",
       " ('Neighborhood_Greens', 3473.1902810089096),\n",
       " ('Neighborhood_GrnHill', 98743.7864711113),\n",
       " ('Neighborhood_IDOTRR', 15429.945602817366),\n",
       " ('Neighborhood_Landmrk', 3379.8811925207865),\n",
       " ('Neighborhood_MeadowV', 8126.875450949177),\n",
       " ('Neighborhood_Mitchel', 7428.840807594416),\n",
       " ('Neighborhood_NAmes', 8351.723215820173),\n",
       " ('Neighborhood_NPkVill', 5797.693304635317),\n",
       " ('Neighborhood_NWAmes', 1993.5548327355032),\n",
       " ('Neighborhood_NoRidge', 38178.30661833637),\n",
       " ('Neighborhood_NridgHt', 51558.79630778552),\n",
       " ('Neighborhood_OldTown', 9755.417418060402),\n",
       " ('Neighborhood_SWISU', 10757.31155018699),\n",
       " ('Neighborhood_Sawyer', 10937.294162726363),\n",
       " ('Neighborhood_SawyerW', 2479.597473069113),\n",
       " ('Neighborhood_Somerst', 19820.21312397434),\n",
       " ('Neighborhood_StoneBr', 69601.87277383363),\n",
       " ('Neighborhood_Timber', 14216.353111211381),\n",
       " ('Neighborhood_Veenker', 8806.479104110409)]"
      ]
     },
     "execution_count": 220,
     "metadata": {},
     "output_type": "execute_result"
    }
   ],
   "source": [
    "list(zip(lm_X.columns, lr.coef_)) # displays variable names next to model coef"
   ]
  },
  {
   "cell_type": "markdown",
   "metadata": {},
   "source": [
    "# Retrain on full dataset"
   ]
  },
  {
   "cell_type": "code",
   "execution_count": 113,
   "metadata": {},
   "outputs": [],
   "source": [
    "# Retrain the regression on the whole dataset\n",
    "X_sc = ss.fit_transform(X)\n",
    "y_log = np.log(y)\n",
    "\n",
    "# Set up a list of ridge alphas to check.\n",
    "# np.logspace generates 100 values equally between 0 and 5,\n",
    "# then converts them to alphas between 10^0 and 10^5.\n",
    "\n",
    "r_alphas = np.logspace(0, 5, 100)\n",
    "\n",
    "# Cross-validate over our list of ridge alphas.\n",
    "\n",
    "ridge_full = RidgeCV(alphas=r_alphas, scoring='r2', cv=5) # 5-fold CV\n",
    "\n",
    "# Fit model using best ridge alpha!\n",
    "ridge_full.fit(X_sc, y_log);\n",
    "\n",
    "# This code is from 4.02-lesson-regularization"
   ]
  },
  {
   "cell_type": "code",
   "execution_count": 114,
   "metadata": {},
   "outputs": [
    {
     "data": {
      "text/plain": [
       "422.9242874389499"
      ]
     },
     "execution_count": 114,
     "metadata": {},
     "output_type": "execute_result"
    }
   ],
   "source": [
    "# Here is the optimal value of alpha\n",
    "ridge_full.alpha_"
   ]
  },
  {
   "cell_type": "code",
   "execution_count": 115,
   "metadata": {},
   "outputs": [
    {
     "name": "stdout",
     "output_type": "stream",
     "text": [
      "Full score:  0.9310922266964414\n"
     ]
    }
   ],
   "source": [
    "# Get the R2 for the full model\n",
    "print('Full score: ', ridge_full.score(X_sc, y_log))"
   ]
  },
  {
   "cell_type": "code",
   "execution_count": 116,
   "metadata": {},
   "outputs": [
    {
     "data": {
      "text/plain": [
       "198088.69730071968"
      ]
     },
     "execution_count": 116,
     "metadata": {},
     "output_type": "execute_result"
    }
   ],
   "source": [
    "np.sqrt(mean_squared_error(np.exp(y_log), ridge_cv.predict(X_sc)))"
   ]
  },
  {
   "cell_type": "markdown",
   "metadata": {},
   "source": [
    "# LOAD TEST DATA"
   ]
  },
  {
   "cell_type": "code",
   "execution_count": 735,
   "metadata": {},
   "outputs": [
    {
     "data": {
      "text/html": [
       "<div>\n",
       "<style scoped>\n",
       "    .dataframe tbody tr th:only-of-type {\n",
       "        vertical-align: middle;\n",
       "    }\n",
       "\n",
       "    .dataframe tbody tr th {\n",
       "        vertical-align: top;\n",
       "    }\n",
       "\n",
       "    .dataframe thead th {\n",
       "        text-align: right;\n",
       "    }\n",
       "</style>\n",
       "<table border=\"1\" class=\"dataframe\">\n",
       "  <thead>\n",
       "    <tr style=\"text-align: right;\">\n",
       "      <th></th>\n",
       "      <th>Id</th>\n",
       "      <th>Lot Frontage</th>\n",
       "      <th>Lot Area</th>\n",
       "      <th>Lot Shape</th>\n",
       "      <th>Utilities</th>\n",
       "      <th>Land Slope</th>\n",
       "      <th>Overall Qual</th>\n",
       "      <th>Overall Cond</th>\n",
       "      <th>Year Built</th>\n",
       "      <th>Year Remod/Add</th>\n",
       "      <th>...</th>\n",
       "      <th>Mo Sold_7</th>\n",
       "      <th>Mo Sold_8</th>\n",
       "      <th>Mo Sold_9</th>\n",
       "      <th>Mo Sold_10</th>\n",
       "      <th>Mo Sold_11</th>\n",
       "      <th>Mo Sold_12</th>\n",
       "      <th>Yr Sold_2007</th>\n",
       "      <th>Yr Sold_2008</th>\n",
       "      <th>Yr Sold_2009</th>\n",
       "      <th>Yr Sold_2010</th>\n",
       "    </tr>\n",
       "  </thead>\n",
       "  <tbody>\n",
       "    <tr>\n",
       "      <th>0</th>\n",
       "      <td>2658</td>\n",
       "      <td>69.0</td>\n",
       "      <td>9142</td>\n",
       "      <td>4</td>\n",
       "      <td>4</td>\n",
       "      <td>3</td>\n",
       "      <td>6</td>\n",
       "      <td>8</td>\n",
       "      <td>1910</td>\n",
       "      <td>1950</td>\n",
       "      <td>...</td>\n",
       "      <td>0</td>\n",
       "      <td>0</td>\n",
       "      <td>0</td>\n",
       "      <td>0</td>\n",
       "      <td>0</td>\n",
       "      <td>0</td>\n",
       "      <td>0</td>\n",
       "      <td>0</td>\n",
       "      <td>0</td>\n",
       "      <td>0</td>\n",
       "    </tr>\n",
       "    <tr>\n",
       "      <th>1</th>\n",
       "      <td>2718</td>\n",
       "      <td>0.0</td>\n",
       "      <td>9662</td>\n",
       "      <td>3</td>\n",
       "      <td>4</td>\n",
       "      <td>3</td>\n",
       "      <td>5</td>\n",
       "      <td>4</td>\n",
       "      <td>1977</td>\n",
       "      <td>1977</td>\n",
       "      <td>...</td>\n",
       "      <td>0</td>\n",
       "      <td>1</td>\n",
       "      <td>0</td>\n",
       "      <td>0</td>\n",
       "      <td>0</td>\n",
       "      <td>0</td>\n",
       "      <td>0</td>\n",
       "      <td>0</td>\n",
       "      <td>0</td>\n",
       "      <td>0</td>\n",
       "    </tr>\n",
       "    <tr>\n",
       "      <th>2</th>\n",
       "      <td>2414</td>\n",
       "      <td>58.0</td>\n",
       "      <td>17104</td>\n",
       "      <td>3</td>\n",
       "      <td>4</td>\n",
       "      <td>3</td>\n",
       "      <td>7</td>\n",
       "      <td>5</td>\n",
       "      <td>2006</td>\n",
       "      <td>2006</td>\n",
       "      <td>...</td>\n",
       "      <td>0</td>\n",
       "      <td>0</td>\n",
       "      <td>1</td>\n",
       "      <td>0</td>\n",
       "      <td>0</td>\n",
       "      <td>0</td>\n",
       "      <td>0</td>\n",
       "      <td>0</td>\n",
       "      <td>0</td>\n",
       "      <td>0</td>\n",
       "    </tr>\n",
       "    <tr>\n",
       "      <th>3</th>\n",
       "      <td>1989</td>\n",
       "      <td>60.0</td>\n",
       "      <td>8520</td>\n",
       "      <td>4</td>\n",
       "      <td>4</td>\n",
       "      <td>3</td>\n",
       "      <td>5</td>\n",
       "      <td>6</td>\n",
       "      <td>1923</td>\n",
       "      <td>2006</td>\n",
       "      <td>...</td>\n",
       "      <td>1</td>\n",
       "      <td>0</td>\n",
       "      <td>0</td>\n",
       "      <td>0</td>\n",
       "      <td>0</td>\n",
       "      <td>0</td>\n",
       "      <td>1</td>\n",
       "      <td>0</td>\n",
       "      <td>0</td>\n",
       "      <td>0</td>\n",
       "    </tr>\n",
       "    <tr>\n",
       "      <th>4</th>\n",
       "      <td>625</td>\n",
       "      <td>0.0</td>\n",
       "      <td>9500</td>\n",
       "      <td>3</td>\n",
       "      <td>4</td>\n",
       "      <td>3</td>\n",
       "      <td>6</td>\n",
       "      <td>5</td>\n",
       "      <td>1963</td>\n",
       "      <td>1963</td>\n",
       "      <td>...</td>\n",
       "      <td>1</td>\n",
       "      <td>0</td>\n",
       "      <td>0</td>\n",
       "      <td>0</td>\n",
       "      <td>0</td>\n",
       "      <td>0</td>\n",
       "      <td>0</td>\n",
       "      <td>0</td>\n",
       "      <td>1</td>\n",
       "      <td>0</td>\n",
       "    </tr>\n",
       "  </tbody>\n",
       "</table>\n",
       "<p>5 rows × 233 columns</p>\n",
       "</div>"
      ],
      "text/plain": [
       "     Id  Lot Frontage  Lot Area  Lot Shape  Utilities  Land Slope  \\\n",
       "0  2658          69.0      9142          4          4           3   \n",
       "1  2718           0.0      9662          3          4           3   \n",
       "2  2414          58.0     17104          3          4           3   \n",
       "3  1989          60.0      8520          4          4           3   \n",
       "4   625           0.0      9500          3          4           3   \n",
       "\n",
       "   Overall Qual  Overall Cond  Year Built  Year Remod/Add  ...  Mo Sold_7  \\\n",
       "0             6             8        1910            1950  ...          0   \n",
       "1             5             4        1977            1977  ...          0   \n",
       "2             7             5        2006            2006  ...          0   \n",
       "3             5             6        1923            2006  ...          1   \n",
       "4             6             5        1963            1963  ...          1   \n",
       "\n",
       "   Mo Sold_8  Mo Sold_9  Mo Sold_10  Mo Sold_11  Mo Sold_12  Yr Sold_2007  \\\n",
       "0          0          0           0           0           0             0   \n",
       "1          1          0           0           0           0             0   \n",
       "2          0          1           0           0           0             0   \n",
       "3          0          0           0           0           0             1   \n",
       "4          0          0           0           0           0             0   \n",
       "\n",
       "   Yr Sold_2008  Yr Sold_2009  Yr Sold_2010  \n",
       "0             0             0             0  \n",
       "1             0             0             0  \n",
       "2             0             0             0  \n",
       "3             0             0             0  \n",
       "4             0             1             0  \n",
       "\n",
       "[5 rows x 233 columns]"
      ]
     },
     "execution_count": 735,
     "metadata": {},
     "output_type": "execute_result"
    }
   ],
   "source": [
    "# Load the clean test data\n",
    "test_clean = pd.read_csv('../datasets/test_clean_features.csv')\n",
    "test_clean.head()"
   ]
  },
  {
   "cell_type": "code",
   "execution_count": 736,
   "metadata": {},
   "outputs": [],
   "source": [
    "# Drop the Id column for now\n",
    "test_clean.drop(columns='Id', inplace=True)"
   ]
  },
  {
   "cell_type": "code",
   "execution_count": 737,
   "metadata": {},
   "outputs": [
    {
     "data": {
      "text/plain": [
       "(878, 232)"
      ]
     },
     "execution_count": 737,
     "metadata": {},
     "output_type": "execute_result"
    }
   ],
   "source": [
    "test_clean.shape"
   ]
  },
  {
   "cell_type": "code",
   "execution_count": 738,
   "metadata": {},
   "outputs": [
    {
     "data": {
      "text/plain": [
       "(878, 27260)"
      ]
     },
     "execution_count": 738,
     "metadata": {},
     "output_type": "execute_result"
    }
   ],
   "source": [
    "#Generates the full polynomial feature table.  \n",
    "poly = PolynomialFeatures(include_bias=False)\n",
    "test_poly = poly.fit_transform(test_clean)\n",
    "\n",
    "#Adds appropriate feature names to all polynomial features\n",
    "test_poly = pd.DataFrame(test_poly,columns=poly.get_feature_names(test_clean.columns))\n",
    "\n",
    "test_poly.shape\n"
   ]
  },
  {
   "cell_type": "code",
   "execution_count": 739,
   "metadata": {},
   "outputs": [
    {
     "data": {
      "text/html": [
       "<div>\n",
       "<style scoped>\n",
       "    .dataframe tbody tr th:only-of-type {\n",
       "        vertical-align: middle;\n",
       "    }\n",
       "\n",
       "    .dataframe tbody tr th {\n",
       "        vertical-align: top;\n",
       "    }\n",
       "\n",
       "    .dataframe thead th {\n",
       "        text-align: right;\n",
       "    }\n",
       "</style>\n",
       "<table border=\"1\" class=\"dataframe\">\n",
       "  <thead>\n",
       "    <tr style=\"text-align: right;\">\n",
       "      <th></th>\n",
       "      <th>Overall Qual Gr Liv Area</th>\n",
       "      <th>Overall Qual Year Built</th>\n",
       "      <th>Overall Qual Year Remod/Add</th>\n",
       "    </tr>\n",
       "  </thead>\n",
       "  <tbody>\n",
       "    <tr>\n",
       "      <th>0</th>\n",
       "      <td>11568.0</td>\n",
       "      <td>11460.0</td>\n",
       "      <td>11700.0</td>\n",
       "    </tr>\n",
       "    <tr>\n",
       "      <th>1</th>\n",
       "      <td>9835.0</td>\n",
       "      <td>9885.0</td>\n",
       "      <td>9885.0</td>\n",
       "    </tr>\n",
       "    <tr>\n",
       "      <th>2</th>\n",
       "      <td>10472.0</td>\n",
       "      <td>14042.0</td>\n",
       "      <td>14042.0</td>\n",
       "    </tr>\n",
       "    <tr>\n",
       "      <th>3</th>\n",
       "      <td>4840.0</td>\n",
       "      <td>9615.0</td>\n",
       "      <td>10030.0</td>\n",
       "    </tr>\n",
       "    <tr>\n",
       "      <th>4</th>\n",
       "      <td>8364.0</td>\n",
       "      <td>11778.0</td>\n",
       "      <td>11778.0</td>\n",
       "    </tr>\n",
       "    <tr>\n",
       "      <th>...</th>\n",
       "      <td>...</td>\n",
       "      <td>...</td>\n",
       "      <td>...</td>\n",
       "    </tr>\n",
       "    <tr>\n",
       "      <th>873</th>\n",
       "      <td>11262.0</td>\n",
       "      <td>11844.0</td>\n",
       "      <td>11844.0</td>\n",
       "    </tr>\n",
       "    <tr>\n",
       "      <th>874</th>\n",
       "      <td>11928.0</td>\n",
       "      <td>11796.0</td>\n",
       "      <td>11994.0</td>\n",
       "    </tr>\n",
       "    <tr>\n",
       "      <th>875</th>\n",
       "      <td>6055.0</td>\n",
       "      <td>9840.0</td>\n",
       "      <td>9840.0</td>\n",
       "    </tr>\n",
       "    <tr>\n",
       "      <th>876</th>\n",
       "      <td>3456.0</td>\n",
       "      <td>7884.0</td>\n",
       "      <td>7884.0</td>\n",
       "    </tr>\n",
       "    <tr>\n",
       "      <th>877</th>\n",
       "      <td>4625.0</td>\n",
       "      <td>9775.0</td>\n",
       "      <td>9775.0</td>\n",
       "    </tr>\n",
       "  </tbody>\n",
       "</table>\n",
       "<p>878 rows × 3 columns</p>\n",
       "</div>"
      ],
      "text/plain": [
       "     Overall Qual Gr Liv Area  Overall Qual Year Built  \\\n",
       "0                     11568.0                  11460.0   \n",
       "1                      9835.0                   9885.0   \n",
       "2                     10472.0                  14042.0   \n",
       "3                      4840.0                   9615.0   \n",
       "4                      8364.0                  11778.0   \n",
       "..                        ...                      ...   \n",
       "873                   11262.0                  11844.0   \n",
       "874                   11928.0                  11796.0   \n",
       "875                    6055.0                   9840.0   \n",
       "876                    3456.0                   7884.0   \n",
       "877                    4625.0                   9775.0   \n",
       "\n",
       "     Overall Qual Year Remod/Add  \n",
       "0                        11700.0  \n",
       "1                         9885.0  \n",
       "2                        14042.0  \n",
       "3                        10030.0  \n",
       "4                        11778.0  \n",
       "..                           ...  \n",
       "873                      11844.0  \n",
       "874                      11994.0  \n",
       "875                       9840.0  \n",
       "876                       7884.0  \n",
       "877                       9775.0  \n",
       "\n",
       "[878 rows x 3 columns]"
      ]
     },
     "execution_count": 739,
     "metadata": {},
     "output_type": "execute_result"
    }
   ],
   "source": [
    "X_poly_test_select = test_poly[X_poly_corrs.sort_values(ascending=False).head(3).index]\n",
    "X_poly_test_select"
   ]
  },
  {
   "cell_type": "code",
   "execution_count": 740,
   "metadata": {},
   "outputs": [],
   "source": [
    "test_clean = test_clean.merge(X_poly_test_select, left_index=True, right_index=True)"
   ]
  },
  {
   "cell_type": "code",
   "execution_count": 741,
   "metadata": {},
   "outputs": [
    {
     "data": {
      "text/plain": [
       "(878, 235)"
      ]
     },
     "execution_count": 741,
     "metadata": {},
     "output_type": "execute_result"
    }
   ],
   "source": [
    "# Merge dummys back in to test_clean\n",
    "#test_clean = testset.merge(test_dummy, left_index = True, right_index = True)\n",
    "test_clean.shape"
   ]
  },
  {
   "cell_type": "code",
   "execution_count": 742,
   "metadata": {},
   "outputs": [],
   "source": [
    "# Scale the test data\n",
    "test_sc = ss.transform(test_clean)\n",
    "\n",
    "# Predict sale price for the test data\n",
    "predictions = ridge_full.predict(test_sc)\n",
    "\n",
    "# Square the predictions to create predictions that make sense\n",
    "predictions = np.exp(predictions)"
   ]
  },
  {
   "cell_type": "code",
   "execution_count": 743,
   "metadata": {},
   "outputs": [],
   "source": [
    "# Read test data back in to get ID column\n",
    "id_file = pd.read_csv('../datasets/test_clean.csv')\n",
    "id_file['SalePrice'] = predictions\n",
    "\n",
    "# Create submission data and save\n",
    "submission = id_file[['Id','SalePrice']]\n",
    "submission.to_csv('../datasets/ridge_new_poly_features.csv',index=False)\n",
    "\n"
   ]
  },
  {
   "cell_type": "code",
   "execution_count": 744,
   "metadata": {},
   "outputs": [
    {
     "data": {
      "text/html": [
       "<div>\n",
       "<style scoped>\n",
       "    .dataframe tbody tr th:only-of-type {\n",
       "        vertical-align: middle;\n",
       "    }\n",
       "\n",
       "    .dataframe tbody tr th {\n",
       "        vertical-align: top;\n",
       "    }\n",
       "\n",
       "    .dataframe thead th {\n",
       "        text-align: right;\n",
       "    }\n",
       "</style>\n",
       "<table border=\"1\" class=\"dataframe\">\n",
       "  <thead>\n",
       "    <tr style=\"text-align: right;\">\n",
       "      <th></th>\n",
       "      <th>Id</th>\n",
       "      <th>SalePrice</th>\n",
       "    </tr>\n",
       "  </thead>\n",
       "  <tbody>\n",
       "    <tr>\n",
       "      <th>0</th>\n",
       "      <td>2658</td>\n",
       "      <td>127985.985453</td>\n",
       "    </tr>\n",
       "    <tr>\n",
       "      <th>1</th>\n",
       "      <td>2718</td>\n",
       "      <td>159881.009749</td>\n",
       "    </tr>\n",
       "    <tr>\n",
       "      <th>2</th>\n",
       "      <td>2414</td>\n",
       "      <td>219292.718077</td>\n",
       "    </tr>\n",
       "    <tr>\n",
       "      <th>3</th>\n",
       "      <td>1989</td>\n",
       "      <td>99517.031897</td>\n",
       "    </tr>\n",
       "    <tr>\n",
       "      <th>4</th>\n",
       "      <td>625</td>\n",
       "      <td>174245.228124</td>\n",
       "    </tr>\n",
       "  </tbody>\n",
       "</table>\n",
       "</div>"
      ],
      "text/plain": [
       "     Id      SalePrice\n",
       "0  2658  127985.985453\n",
       "1  2718  159881.009749\n",
       "2  2414  219292.718077\n",
       "3  1989   99517.031897\n",
       "4   625  174245.228124"
      ]
     },
     "execution_count": 744,
     "metadata": {},
     "output_type": "execute_result"
    }
   ],
   "source": [
    "# View submission data\n",
    "submission.head()"
   ]
  },
  {
   "cell_type": "code",
   "execution_count": null,
   "metadata": {},
   "outputs": [],
   "source": []
  }
 ],
 "metadata": {
  "kernelspec": {
   "display_name": "Python 3",
   "language": "python",
   "name": "python3"
  },
  "language_info": {
   "codemirror_mode": {
    "name": "ipython",
    "version": 3
   },
   "file_extension": ".py",
   "mimetype": "text/x-python",
   "name": "python",
   "nbconvert_exporter": "python",
   "pygments_lexer": "ipython3",
   "version": "3.8.5"
  }
 },
 "nbformat": 4,
 "nbformat_minor": 4
}
