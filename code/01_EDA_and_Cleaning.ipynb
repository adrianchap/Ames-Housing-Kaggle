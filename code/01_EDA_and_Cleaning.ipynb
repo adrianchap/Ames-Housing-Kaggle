{
 "cells": [
  {
   "cell_type": "code",
   "execution_count": 214,
   "metadata": {},
   "outputs": [],
   "source": [
    "# Load required libraries\n",
    "import pandas as pd\n",
    "import numpy as np\n",
    "import seaborn as sns\n",
    "import matplotlib.pyplot as plt"
   ]
  },
  {
   "cell_type": "code",
   "execution_count": 215,
   "metadata": {},
   "outputs": [],
   "source": [
    "# Load training dataset\n",
    "df_train = pd.read_csv('../datasets/train.csv')\n",
    "df_test = pd.read_csv('../datasets/test.csv')"
   ]
  },
  {
   "cell_type": "code",
   "execution_count": 216,
   "metadata": {},
   "outputs": [],
   "source": [
    "# Create column indicating if record is from training or test set\n",
    "df_train['train/test'] = 'train'\n",
    "df_test['train/test'] = 'test'"
   ]
  },
  {
   "cell_type": "code",
   "execution_count": 217,
   "metadata": {},
   "outputs": [
    {
     "data": {
      "text/plain": [
       "(878, 81)"
      ]
     },
     "execution_count": 217,
     "metadata": {},
     "output_type": "execute_result"
    }
   ],
   "source": [
    "df_test.shape"
   ]
  },
  {
   "cell_type": "code",
   "execution_count": 218,
   "metadata": {},
   "outputs": [
    {
     "data": {
      "text/plain": [
       "(2051, 82)"
      ]
     },
     "execution_count": 218,
     "metadata": {},
     "output_type": "execute_result"
    }
   ],
   "source": [
    "df_train.shape"
   ]
  },
  {
   "cell_type": "code",
   "execution_count": 219,
   "metadata": {},
   "outputs": [
    {
     "data": {
      "text/html": [
       "<div>\n",
       "<style scoped>\n",
       "    .dataframe tbody tr th:only-of-type {\n",
       "        vertical-align: middle;\n",
       "    }\n",
       "\n",
       "    .dataframe tbody tr th {\n",
       "        vertical-align: top;\n",
       "    }\n",
       "\n",
       "    .dataframe thead th {\n",
       "        text-align: right;\n",
       "    }\n",
       "</style>\n",
       "<table border=\"1\" class=\"dataframe\">\n",
       "  <thead>\n",
       "    <tr style=\"text-align: right;\">\n",
       "      <th></th>\n",
       "      <th>Id</th>\n",
       "      <th>PID</th>\n",
       "      <th>MS SubClass</th>\n",
       "      <th>MS Zoning</th>\n",
       "      <th>Lot Frontage</th>\n",
       "      <th>Lot Area</th>\n",
       "      <th>Street</th>\n",
       "      <th>Alley</th>\n",
       "      <th>Lot Shape</th>\n",
       "      <th>Land Contour</th>\n",
       "      <th>...</th>\n",
       "      <th>Pool Area</th>\n",
       "      <th>Pool QC</th>\n",
       "      <th>Fence</th>\n",
       "      <th>Misc Feature</th>\n",
       "      <th>Misc Val</th>\n",
       "      <th>Mo Sold</th>\n",
       "      <th>Yr Sold</th>\n",
       "      <th>Sale Type</th>\n",
       "      <th>SalePrice</th>\n",
       "      <th>train/test</th>\n",
       "    </tr>\n",
       "  </thead>\n",
       "  <tbody>\n",
       "    <tr>\n",
       "      <th>0</th>\n",
       "      <td>109</td>\n",
       "      <td>533352170</td>\n",
       "      <td>60</td>\n",
       "      <td>RL</td>\n",
       "      <td>NaN</td>\n",
       "      <td>13517</td>\n",
       "      <td>Pave</td>\n",
       "      <td>NaN</td>\n",
       "      <td>IR1</td>\n",
       "      <td>Lvl</td>\n",
       "      <td>...</td>\n",
       "      <td>0</td>\n",
       "      <td>NaN</td>\n",
       "      <td>NaN</td>\n",
       "      <td>NaN</td>\n",
       "      <td>0</td>\n",
       "      <td>3</td>\n",
       "      <td>2010</td>\n",
       "      <td>WD</td>\n",
       "      <td>130500</td>\n",
       "      <td>train</td>\n",
       "    </tr>\n",
       "    <tr>\n",
       "      <th>1</th>\n",
       "      <td>544</td>\n",
       "      <td>531379050</td>\n",
       "      <td>60</td>\n",
       "      <td>RL</td>\n",
       "      <td>43.0</td>\n",
       "      <td>11492</td>\n",
       "      <td>Pave</td>\n",
       "      <td>NaN</td>\n",
       "      <td>IR1</td>\n",
       "      <td>Lvl</td>\n",
       "      <td>...</td>\n",
       "      <td>0</td>\n",
       "      <td>NaN</td>\n",
       "      <td>NaN</td>\n",
       "      <td>NaN</td>\n",
       "      <td>0</td>\n",
       "      <td>4</td>\n",
       "      <td>2009</td>\n",
       "      <td>WD</td>\n",
       "      <td>220000</td>\n",
       "      <td>train</td>\n",
       "    </tr>\n",
       "    <tr>\n",
       "      <th>2</th>\n",
       "      <td>153</td>\n",
       "      <td>535304180</td>\n",
       "      <td>20</td>\n",
       "      <td>RL</td>\n",
       "      <td>68.0</td>\n",
       "      <td>7922</td>\n",
       "      <td>Pave</td>\n",
       "      <td>NaN</td>\n",
       "      <td>Reg</td>\n",
       "      <td>Lvl</td>\n",
       "      <td>...</td>\n",
       "      <td>0</td>\n",
       "      <td>NaN</td>\n",
       "      <td>NaN</td>\n",
       "      <td>NaN</td>\n",
       "      <td>0</td>\n",
       "      <td>1</td>\n",
       "      <td>2010</td>\n",
       "      <td>WD</td>\n",
       "      <td>109000</td>\n",
       "      <td>train</td>\n",
       "    </tr>\n",
       "    <tr>\n",
       "      <th>3</th>\n",
       "      <td>318</td>\n",
       "      <td>916386060</td>\n",
       "      <td>60</td>\n",
       "      <td>RL</td>\n",
       "      <td>73.0</td>\n",
       "      <td>9802</td>\n",
       "      <td>Pave</td>\n",
       "      <td>NaN</td>\n",
       "      <td>Reg</td>\n",
       "      <td>Lvl</td>\n",
       "      <td>...</td>\n",
       "      <td>0</td>\n",
       "      <td>NaN</td>\n",
       "      <td>NaN</td>\n",
       "      <td>NaN</td>\n",
       "      <td>0</td>\n",
       "      <td>4</td>\n",
       "      <td>2010</td>\n",
       "      <td>WD</td>\n",
       "      <td>174000</td>\n",
       "      <td>train</td>\n",
       "    </tr>\n",
       "    <tr>\n",
       "      <th>4</th>\n",
       "      <td>255</td>\n",
       "      <td>906425045</td>\n",
       "      <td>50</td>\n",
       "      <td>RL</td>\n",
       "      <td>82.0</td>\n",
       "      <td>14235</td>\n",
       "      <td>Pave</td>\n",
       "      <td>NaN</td>\n",
       "      <td>IR1</td>\n",
       "      <td>Lvl</td>\n",
       "      <td>...</td>\n",
       "      <td>0</td>\n",
       "      <td>NaN</td>\n",
       "      <td>NaN</td>\n",
       "      <td>NaN</td>\n",
       "      <td>0</td>\n",
       "      <td>3</td>\n",
       "      <td>2010</td>\n",
       "      <td>WD</td>\n",
       "      <td>138500</td>\n",
       "      <td>train</td>\n",
       "    </tr>\n",
       "  </tbody>\n",
       "</table>\n",
       "<p>5 rows × 82 columns</p>\n",
       "</div>"
      ],
      "text/plain": [
       "    Id        PID  MS SubClass MS Zoning  Lot Frontage  Lot Area Street Alley  \\\n",
       "0  109  533352170           60        RL           NaN     13517   Pave   NaN   \n",
       "1  544  531379050           60        RL          43.0     11492   Pave   NaN   \n",
       "2  153  535304180           20        RL          68.0      7922   Pave   NaN   \n",
       "3  318  916386060           60        RL          73.0      9802   Pave   NaN   \n",
       "4  255  906425045           50        RL          82.0     14235   Pave   NaN   \n",
       "\n",
       "  Lot Shape Land Contour  ... Pool Area Pool QC Fence Misc Feature Misc Val  \\\n",
       "0       IR1          Lvl  ...         0     NaN   NaN          NaN        0   \n",
       "1       IR1          Lvl  ...         0     NaN   NaN          NaN        0   \n",
       "2       Reg          Lvl  ...         0     NaN   NaN          NaN        0   \n",
       "3       Reg          Lvl  ...         0     NaN   NaN          NaN        0   \n",
       "4       IR1          Lvl  ...         0     NaN   NaN          NaN        0   \n",
       "\n",
       "  Mo Sold Yr Sold Sale Type  SalePrice  train/test  \n",
       "0       3    2010       WD      130500       train  \n",
       "1       4    2009       WD      220000       train  \n",
       "2       1    2010       WD      109000       train  \n",
       "3       4    2010       WD      174000       train  \n",
       "4       3    2010       WD      138500       train  \n",
       "\n",
       "[5 rows x 82 columns]"
      ]
     },
     "execution_count": 219,
     "metadata": {},
     "output_type": "execute_result"
    }
   ],
   "source": [
    "df_train.head()"
   ]
  },
  {
   "cell_type": "code",
   "execution_count": 220,
   "metadata": {},
   "outputs": [
    {
     "data": {
      "text/html": [
       "<div>\n",
       "<style scoped>\n",
       "    .dataframe tbody tr th:only-of-type {\n",
       "        vertical-align: middle;\n",
       "    }\n",
       "\n",
       "    .dataframe tbody tr th {\n",
       "        vertical-align: top;\n",
       "    }\n",
       "\n",
       "    .dataframe thead th {\n",
       "        text-align: right;\n",
       "    }\n",
       "</style>\n",
       "<table border=\"1\" class=\"dataframe\">\n",
       "  <thead>\n",
       "    <tr style=\"text-align: right;\">\n",
       "      <th></th>\n",
       "      <th>Id</th>\n",
       "      <th>PID</th>\n",
       "      <th>MS SubClass</th>\n",
       "      <th>Lot Frontage</th>\n",
       "      <th>Lot Area</th>\n",
       "      <th>Overall Qual</th>\n",
       "      <th>Overall Cond</th>\n",
       "      <th>Year Built</th>\n",
       "      <th>Year Remod/Add</th>\n",
       "      <th>Mas Vnr Area</th>\n",
       "      <th>...</th>\n",
       "      <th>Wood Deck SF</th>\n",
       "      <th>Open Porch SF</th>\n",
       "      <th>Enclosed Porch</th>\n",
       "      <th>3Ssn Porch</th>\n",
       "      <th>Screen Porch</th>\n",
       "      <th>Pool Area</th>\n",
       "      <th>Misc Val</th>\n",
       "      <th>Mo Sold</th>\n",
       "      <th>Yr Sold</th>\n",
       "      <th>SalePrice</th>\n",
       "    </tr>\n",
       "  </thead>\n",
       "  <tbody>\n",
       "    <tr>\n",
       "      <th>count</th>\n",
       "      <td>2051.000000</td>\n",
       "      <td>2.051000e+03</td>\n",
       "      <td>2051.000000</td>\n",
       "      <td>1721.000000</td>\n",
       "      <td>2051.000000</td>\n",
       "      <td>2051.000000</td>\n",
       "      <td>2051.000000</td>\n",
       "      <td>2051.000000</td>\n",
       "      <td>2051.000000</td>\n",
       "      <td>2029.000000</td>\n",
       "      <td>...</td>\n",
       "      <td>2051.000000</td>\n",
       "      <td>2051.000000</td>\n",
       "      <td>2051.000000</td>\n",
       "      <td>2051.000000</td>\n",
       "      <td>2051.000000</td>\n",
       "      <td>2051.000000</td>\n",
       "      <td>2051.000000</td>\n",
       "      <td>2051.000000</td>\n",
       "      <td>2051.000000</td>\n",
       "      <td>2051.000000</td>\n",
       "    </tr>\n",
       "    <tr>\n",
       "      <th>mean</th>\n",
       "      <td>1474.033642</td>\n",
       "      <td>7.135900e+08</td>\n",
       "      <td>57.008776</td>\n",
       "      <td>69.055200</td>\n",
       "      <td>10065.208191</td>\n",
       "      <td>6.112140</td>\n",
       "      <td>5.562165</td>\n",
       "      <td>1971.708922</td>\n",
       "      <td>1984.190151</td>\n",
       "      <td>99.695909</td>\n",
       "      <td>...</td>\n",
       "      <td>93.833740</td>\n",
       "      <td>47.556802</td>\n",
       "      <td>22.571916</td>\n",
       "      <td>2.591419</td>\n",
       "      <td>16.511458</td>\n",
       "      <td>2.397855</td>\n",
       "      <td>51.574354</td>\n",
       "      <td>6.219893</td>\n",
       "      <td>2007.775719</td>\n",
       "      <td>181469.701609</td>\n",
       "    </tr>\n",
       "    <tr>\n",
       "      <th>std</th>\n",
       "      <td>843.980841</td>\n",
       "      <td>1.886918e+08</td>\n",
       "      <td>42.824223</td>\n",
       "      <td>23.260653</td>\n",
       "      <td>6742.488909</td>\n",
       "      <td>1.426271</td>\n",
       "      <td>1.104497</td>\n",
       "      <td>30.177889</td>\n",
       "      <td>21.036250</td>\n",
       "      <td>174.963129</td>\n",
       "      <td>...</td>\n",
       "      <td>128.549416</td>\n",
       "      <td>66.747241</td>\n",
       "      <td>59.845110</td>\n",
       "      <td>25.229615</td>\n",
       "      <td>57.374204</td>\n",
       "      <td>37.782570</td>\n",
       "      <td>573.393985</td>\n",
       "      <td>2.744736</td>\n",
       "      <td>1.312014</td>\n",
       "      <td>79258.659352</td>\n",
       "    </tr>\n",
       "    <tr>\n",
       "      <th>min</th>\n",
       "      <td>1.000000</td>\n",
       "      <td>5.263011e+08</td>\n",
       "      <td>20.000000</td>\n",
       "      <td>21.000000</td>\n",
       "      <td>1300.000000</td>\n",
       "      <td>1.000000</td>\n",
       "      <td>1.000000</td>\n",
       "      <td>1872.000000</td>\n",
       "      <td>1950.000000</td>\n",
       "      <td>0.000000</td>\n",
       "      <td>...</td>\n",
       "      <td>0.000000</td>\n",
       "      <td>0.000000</td>\n",
       "      <td>0.000000</td>\n",
       "      <td>0.000000</td>\n",
       "      <td>0.000000</td>\n",
       "      <td>0.000000</td>\n",
       "      <td>0.000000</td>\n",
       "      <td>1.000000</td>\n",
       "      <td>2006.000000</td>\n",
       "      <td>12789.000000</td>\n",
       "    </tr>\n",
       "    <tr>\n",
       "      <th>25%</th>\n",
       "      <td>753.500000</td>\n",
       "      <td>5.284581e+08</td>\n",
       "      <td>20.000000</td>\n",
       "      <td>58.000000</td>\n",
       "      <td>7500.000000</td>\n",
       "      <td>5.000000</td>\n",
       "      <td>5.000000</td>\n",
       "      <td>1953.500000</td>\n",
       "      <td>1964.500000</td>\n",
       "      <td>0.000000</td>\n",
       "      <td>...</td>\n",
       "      <td>0.000000</td>\n",
       "      <td>0.000000</td>\n",
       "      <td>0.000000</td>\n",
       "      <td>0.000000</td>\n",
       "      <td>0.000000</td>\n",
       "      <td>0.000000</td>\n",
       "      <td>0.000000</td>\n",
       "      <td>4.000000</td>\n",
       "      <td>2007.000000</td>\n",
       "      <td>129825.000000</td>\n",
       "    </tr>\n",
       "    <tr>\n",
       "      <th>50%</th>\n",
       "      <td>1486.000000</td>\n",
       "      <td>5.354532e+08</td>\n",
       "      <td>50.000000</td>\n",
       "      <td>68.000000</td>\n",
       "      <td>9430.000000</td>\n",
       "      <td>6.000000</td>\n",
       "      <td>5.000000</td>\n",
       "      <td>1974.000000</td>\n",
       "      <td>1993.000000</td>\n",
       "      <td>0.000000</td>\n",
       "      <td>...</td>\n",
       "      <td>0.000000</td>\n",
       "      <td>27.000000</td>\n",
       "      <td>0.000000</td>\n",
       "      <td>0.000000</td>\n",
       "      <td>0.000000</td>\n",
       "      <td>0.000000</td>\n",
       "      <td>0.000000</td>\n",
       "      <td>6.000000</td>\n",
       "      <td>2008.000000</td>\n",
       "      <td>162500.000000</td>\n",
       "    </tr>\n",
       "    <tr>\n",
       "      <th>75%</th>\n",
       "      <td>2198.000000</td>\n",
       "      <td>9.071801e+08</td>\n",
       "      <td>70.000000</td>\n",
       "      <td>80.000000</td>\n",
       "      <td>11513.500000</td>\n",
       "      <td>7.000000</td>\n",
       "      <td>6.000000</td>\n",
       "      <td>2001.000000</td>\n",
       "      <td>2004.000000</td>\n",
       "      <td>161.000000</td>\n",
       "      <td>...</td>\n",
       "      <td>168.000000</td>\n",
       "      <td>70.000000</td>\n",
       "      <td>0.000000</td>\n",
       "      <td>0.000000</td>\n",
       "      <td>0.000000</td>\n",
       "      <td>0.000000</td>\n",
       "      <td>0.000000</td>\n",
       "      <td>8.000000</td>\n",
       "      <td>2009.000000</td>\n",
       "      <td>214000.000000</td>\n",
       "    </tr>\n",
       "    <tr>\n",
       "      <th>max</th>\n",
       "      <td>2930.000000</td>\n",
       "      <td>9.241520e+08</td>\n",
       "      <td>190.000000</td>\n",
       "      <td>313.000000</td>\n",
       "      <td>159000.000000</td>\n",
       "      <td>10.000000</td>\n",
       "      <td>9.000000</td>\n",
       "      <td>2010.000000</td>\n",
       "      <td>2010.000000</td>\n",
       "      <td>1600.000000</td>\n",
       "      <td>...</td>\n",
       "      <td>1424.000000</td>\n",
       "      <td>547.000000</td>\n",
       "      <td>432.000000</td>\n",
       "      <td>508.000000</td>\n",
       "      <td>490.000000</td>\n",
       "      <td>800.000000</td>\n",
       "      <td>17000.000000</td>\n",
       "      <td>12.000000</td>\n",
       "      <td>2010.000000</td>\n",
       "      <td>611657.000000</td>\n",
       "    </tr>\n",
       "  </tbody>\n",
       "</table>\n",
       "<p>8 rows × 39 columns</p>\n",
       "</div>"
      ],
      "text/plain": [
       "                Id           PID  MS SubClass  Lot Frontage       Lot Area  \\\n",
       "count  2051.000000  2.051000e+03  2051.000000   1721.000000    2051.000000   \n",
       "mean   1474.033642  7.135900e+08    57.008776     69.055200   10065.208191   \n",
       "std     843.980841  1.886918e+08    42.824223     23.260653    6742.488909   \n",
       "min       1.000000  5.263011e+08    20.000000     21.000000    1300.000000   \n",
       "25%     753.500000  5.284581e+08    20.000000     58.000000    7500.000000   \n",
       "50%    1486.000000  5.354532e+08    50.000000     68.000000    9430.000000   \n",
       "75%    2198.000000  9.071801e+08    70.000000     80.000000   11513.500000   \n",
       "max    2930.000000  9.241520e+08   190.000000    313.000000  159000.000000   \n",
       "\n",
       "       Overall Qual  Overall Cond   Year Built  Year Remod/Add  Mas Vnr Area  \\\n",
       "count   2051.000000   2051.000000  2051.000000     2051.000000   2029.000000   \n",
       "mean       6.112140      5.562165  1971.708922     1984.190151     99.695909   \n",
       "std        1.426271      1.104497    30.177889       21.036250    174.963129   \n",
       "min        1.000000      1.000000  1872.000000     1950.000000      0.000000   \n",
       "25%        5.000000      5.000000  1953.500000     1964.500000      0.000000   \n",
       "50%        6.000000      5.000000  1974.000000     1993.000000      0.000000   \n",
       "75%        7.000000      6.000000  2001.000000     2004.000000    161.000000   \n",
       "max       10.000000      9.000000  2010.000000     2010.000000   1600.000000   \n",
       "\n",
       "       ...  Wood Deck SF  Open Porch SF  Enclosed Porch   3Ssn Porch  \\\n",
       "count  ...   2051.000000    2051.000000     2051.000000  2051.000000   \n",
       "mean   ...     93.833740      47.556802       22.571916     2.591419   \n",
       "std    ...    128.549416      66.747241       59.845110    25.229615   \n",
       "min    ...      0.000000       0.000000        0.000000     0.000000   \n",
       "25%    ...      0.000000       0.000000        0.000000     0.000000   \n",
       "50%    ...      0.000000      27.000000        0.000000     0.000000   \n",
       "75%    ...    168.000000      70.000000        0.000000     0.000000   \n",
       "max    ...   1424.000000     547.000000      432.000000   508.000000   \n",
       "\n",
       "       Screen Porch    Pool Area      Misc Val      Mo Sold      Yr Sold  \\\n",
       "count   2051.000000  2051.000000   2051.000000  2051.000000  2051.000000   \n",
       "mean      16.511458     2.397855     51.574354     6.219893  2007.775719   \n",
       "std       57.374204    37.782570    573.393985     2.744736     1.312014   \n",
       "min        0.000000     0.000000      0.000000     1.000000  2006.000000   \n",
       "25%        0.000000     0.000000      0.000000     4.000000  2007.000000   \n",
       "50%        0.000000     0.000000      0.000000     6.000000  2008.000000   \n",
       "75%        0.000000     0.000000      0.000000     8.000000  2009.000000   \n",
       "max      490.000000   800.000000  17000.000000    12.000000  2010.000000   \n",
       "\n",
       "           SalePrice  \n",
       "count    2051.000000  \n",
       "mean   181469.701609  \n",
       "std     79258.659352  \n",
       "min     12789.000000  \n",
       "25%    129825.000000  \n",
       "50%    162500.000000  \n",
       "75%    214000.000000  \n",
       "max    611657.000000  \n",
       "\n",
       "[8 rows x 39 columns]"
      ]
     },
     "execution_count": 220,
     "metadata": {},
     "output_type": "execute_result"
    }
   ],
   "source": [
    "# View data\n",
    "df_train.describe()"
   ]
  },
  {
   "cell_type": "code",
   "execution_count": 221,
   "metadata": {},
   "outputs": [
    {
     "name": "stdout",
     "output_type": "stream",
     "text": [
      "<class 'pandas.core.frame.DataFrame'>\n",
      "RangeIndex: 2051 entries, 0 to 2050\n",
      "Data columns (total 82 columns):\n",
      " #   Column           Non-Null Count  Dtype  \n",
      "---  ------           --------------  -----  \n",
      " 0   Id               2051 non-null   int64  \n",
      " 1   PID              2051 non-null   int64  \n",
      " 2   MS SubClass      2051 non-null   int64  \n",
      " 3   MS Zoning        2051 non-null   object \n",
      " 4   Lot Frontage     1721 non-null   float64\n",
      " 5   Lot Area         2051 non-null   int64  \n",
      " 6   Street           2051 non-null   object \n",
      " 7   Alley            140 non-null    object \n",
      " 8   Lot Shape        2051 non-null   object \n",
      " 9   Land Contour     2051 non-null   object \n",
      " 10  Utilities        2051 non-null   object \n",
      " 11  Lot Config       2051 non-null   object \n",
      " 12  Land Slope       2051 non-null   object \n",
      " 13  Neighborhood     2051 non-null   object \n",
      " 14  Condition 1      2051 non-null   object \n",
      " 15  Condition 2      2051 non-null   object \n",
      " 16  Bldg Type        2051 non-null   object \n",
      " 17  House Style      2051 non-null   object \n",
      " 18  Overall Qual     2051 non-null   int64  \n",
      " 19  Overall Cond     2051 non-null   int64  \n",
      " 20  Year Built       2051 non-null   int64  \n",
      " 21  Year Remod/Add   2051 non-null   int64  \n",
      " 22  Roof Style       2051 non-null   object \n",
      " 23  Roof Matl        2051 non-null   object \n",
      " 24  Exterior 1st     2051 non-null   object \n",
      " 25  Exterior 2nd     2051 non-null   object \n",
      " 26  Mas Vnr Type     2029 non-null   object \n",
      " 27  Mas Vnr Area     2029 non-null   float64\n",
      " 28  Exter Qual       2051 non-null   object \n",
      " 29  Exter Cond       2051 non-null   object \n",
      " 30  Foundation       2051 non-null   object \n",
      " 31  Bsmt Qual        1996 non-null   object \n",
      " 32  Bsmt Cond        1996 non-null   object \n",
      " 33  Bsmt Exposure    1993 non-null   object \n",
      " 34  BsmtFin Type 1   1996 non-null   object \n",
      " 35  BsmtFin SF 1     2050 non-null   float64\n",
      " 36  BsmtFin Type 2   1995 non-null   object \n",
      " 37  BsmtFin SF 2     2050 non-null   float64\n",
      " 38  Bsmt Unf SF      2050 non-null   float64\n",
      " 39  Total Bsmt SF    2050 non-null   float64\n",
      " 40  Heating          2051 non-null   object \n",
      " 41  Heating QC       2051 non-null   object \n",
      " 42  Central Air      2051 non-null   object \n",
      " 43  Electrical       2051 non-null   object \n",
      " 44  1st Flr SF       2051 non-null   int64  \n",
      " 45  2nd Flr SF       2051 non-null   int64  \n",
      " 46  Low Qual Fin SF  2051 non-null   int64  \n",
      " 47  Gr Liv Area      2051 non-null   int64  \n",
      " 48  Bsmt Full Bath   2049 non-null   float64\n",
      " 49  Bsmt Half Bath   2049 non-null   float64\n",
      " 50  Full Bath        2051 non-null   int64  \n",
      " 51  Half Bath        2051 non-null   int64  \n",
      " 52  Bedroom AbvGr    2051 non-null   int64  \n",
      " 53  Kitchen AbvGr    2051 non-null   int64  \n",
      " 54  Kitchen Qual     2051 non-null   object \n",
      " 55  TotRms AbvGrd    2051 non-null   int64  \n",
      " 56  Functional       2051 non-null   object \n",
      " 57  Fireplaces       2051 non-null   int64  \n",
      " 58  Fireplace Qu     1051 non-null   object \n",
      " 59  Garage Type      1938 non-null   object \n",
      " 60  Garage Yr Blt    1937 non-null   float64\n",
      " 61  Garage Finish    1937 non-null   object \n",
      " 62  Garage Cars      2050 non-null   float64\n",
      " 63  Garage Area      2050 non-null   float64\n",
      " 64  Garage Qual      1937 non-null   object \n",
      " 65  Garage Cond      1937 non-null   object \n",
      " 66  Paved Drive      2051 non-null   object \n",
      " 67  Wood Deck SF     2051 non-null   int64  \n",
      " 68  Open Porch SF    2051 non-null   int64  \n",
      " 69  Enclosed Porch   2051 non-null   int64  \n",
      " 70  3Ssn Porch       2051 non-null   int64  \n",
      " 71  Screen Porch     2051 non-null   int64  \n",
      " 72  Pool Area        2051 non-null   int64  \n",
      " 73  Pool QC          9 non-null      object \n",
      " 74  Fence            400 non-null    object \n",
      " 75  Misc Feature     65 non-null     object \n",
      " 76  Misc Val         2051 non-null   int64  \n",
      " 77  Mo Sold          2051 non-null   int64  \n",
      " 78  Yr Sold          2051 non-null   int64  \n",
      " 79  Sale Type        2051 non-null   object \n",
      " 80  SalePrice        2051 non-null   int64  \n",
      " 81  train/test       2051 non-null   object \n",
      "dtypes: float64(11), int64(28), object(43)\n",
      "memory usage: 1.3+ MB\n"
     ]
    }
   ],
   "source": [
    "df_train.info()"
   ]
  },
  {
   "cell_type": "code",
   "execution_count": 222,
   "metadata": {},
   "outputs": [
    {
     "data": {
      "image/png": "[encoded data removed]",
      "text/plain": [
       "<Figure size 720x360 with 1 Axes>"
      ]
     },
     "metadata": {
      "needs_background": "light"
     },
     "output_type": "display_data"
    }
   ],
   "source": [
    "# Histogram of Sale Price\n",
    "\n",
    "# Size\n",
    "plt.figure(figsize = (10, 5))\n",
    "# Plot it\n",
    "# colors: https://matplotlib.org/3.1.0/gallery/color/named_colors.html\n",
    "plt.hist(df_train['SalePrice'], color = 'purple', alpha=0.3, bins=20)\n",
    "#df_train['SalePrice'].plot(kind = \"kde\", color='purple')\n",
    "\n",
    "\n",
    "\n",
    "\n",
    "# Create a descriptive title\n",
    "plt.title('Distribution of housing sale price')\n",
    "# Do we need axis lables here?\n",
    "plt.xlabel('Sale Price $')\n",
    "\n",
    "plt.savefig('../figs/price_hist.png')"
   ]
  },
  {
   "cell_type": "code",
   "execution_count": 223,
   "metadata": {},
   "outputs": [
    {
     "data": {
      "text/html": [
       "<div>\n",
       "<style scoped>\n",
       "    .dataframe tbody tr th:only-of-type {\n",
       "        vertical-align: middle;\n",
       "    }\n",
       "\n",
       "    .dataframe tbody tr th {\n",
       "        vertical-align: top;\n",
       "    }\n",
       "\n",
       "    .dataframe thead th {\n",
       "        text-align: right;\n",
       "    }\n",
       "</style>\n",
       "<table border=\"1\" class=\"dataframe\">\n",
       "  <thead>\n",
       "    <tr style=\"text-align: right;\">\n",
       "      <th></th>\n",
       "      <th>Id</th>\n",
       "      <th>PID</th>\n",
       "      <th>MS SubClass</th>\n",
       "      <th>MS Zoning</th>\n",
       "      <th>Lot Frontage</th>\n",
       "      <th>Lot Area</th>\n",
       "      <th>Street</th>\n",
       "      <th>Alley</th>\n",
       "      <th>Lot Shape</th>\n",
       "      <th>Land Contour</th>\n",
       "      <th>...</th>\n",
       "      <th>Pool Area</th>\n",
       "      <th>Pool QC</th>\n",
       "      <th>Fence</th>\n",
       "      <th>Misc Feature</th>\n",
       "      <th>Misc Val</th>\n",
       "      <th>Mo Sold</th>\n",
       "      <th>Yr Sold</th>\n",
       "      <th>Sale Type</th>\n",
       "      <th>SalePrice</th>\n",
       "      <th>train/test</th>\n",
       "    </tr>\n",
       "  </thead>\n",
       "  <tbody>\n",
       "    <tr>\n",
       "      <th>960</th>\n",
       "      <td>1499</td>\n",
       "      <td>908154235</td>\n",
       "      <td>60</td>\n",
       "      <td>RL</td>\n",
       "      <td>313.0</td>\n",
       "      <td>63887</td>\n",
       "      <td>Pave</td>\n",
       "      <td>NaN</td>\n",
       "      <td>IR3</td>\n",
       "      <td>Bnk</td>\n",
       "      <td>...</td>\n",
       "      <td>480</td>\n",
       "      <td>Gd</td>\n",
       "      <td>NaN</td>\n",
       "      <td>NaN</td>\n",
       "      <td>0</td>\n",
       "      <td>1</td>\n",
       "      <td>2008</td>\n",
       "      <td>New</td>\n",
       "      <td>160000</td>\n",
       "      <td>train</td>\n",
       "    </tr>\n",
       "    <tr>\n",
       "      <th>1885</th>\n",
       "      <td>2181</td>\n",
       "      <td>908154195</td>\n",
       "      <td>20</td>\n",
       "      <td>RL</td>\n",
       "      <td>128.0</td>\n",
       "      <td>39290</td>\n",
       "      <td>Pave</td>\n",
       "      <td>NaN</td>\n",
       "      <td>IR1</td>\n",
       "      <td>Bnk</td>\n",
       "      <td>...</td>\n",
       "      <td>0</td>\n",
       "      <td>NaN</td>\n",
       "      <td>NaN</td>\n",
       "      <td>Elev</td>\n",
       "      <td>17000</td>\n",
       "      <td>10</td>\n",
       "      <td>2007</td>\n",
       "      <td>New</td>\n",
       "      <td>183850</td>\n",
       "      <td>train</td>\n",
       "    </tr>\n",
       "  </tbody>\n",
       "</table>\n",
       "<p>2 rows × 82 columns</p>\n",
       "</div>"
      ],
      "text/plain": [
       "        Id        PID  MS SubClass MS Zoning  Lot Frontage  Lot Area Street  \\\n",
       "960   1499  908154235           60        RL         313.0     63887   Pave   \n",
       "1885  2181  908154195           20        RL         128.0     39290   Pave   \n",
       "\n",
       "     Alley Lot Shape Land Contour  ... Pool Area Pool QC Fence Misc Feature  \\\n",
       "960    NaN       IR3          Bnk  ...       480      Gd   NaN          NaN   \n",
       "1885   NaN       IR1          Bnk  ...         0     NaN   NaN         Elev   \n",
       "\n",
       "     Misc Val Mo Sold Yr Sold Sale Type  SalePrice  train/test  \n",
       "960         0       1    2008       New     160000       train  \n",
       "1885    17000      10    2007       New     183850       train  \n",
       "\n",
       "[2 rows x 82 columns]"
      ]
     },
     "execution_count": 223,
     "metadata": {},
     "output_type": "execute_result"
    }
   ],
   "source": [
    "# Drop outliers from training data\n",
    "df_train[df_train['Gr Liv Area'] > 4000]"
   ]
  },
  {
   "cell_type": "code",
   "execution_count": 224,
   "metadata": {},
   "outputs": [],
   "source": [
    "# Drop rows with signinificant missing data\n",
    "df_train = df_train.drop(index = [960, 1885])"
   ]
  },
  {
   "cell_type": "code",
   "execution_count": 225,
   "metadata": {},
   "outputs": [],
   "source": [
    "# Combine the training and test dataset into one Data Frame to perform cleaning steps to both simultaneously\n",
    "df = pd.concat([df_train, df_test])"
   ]
  },
  {
   "cell_type": "code",
   "execution_count": 226,
   "metadata": {},
   "outputs": [
    {
     "data": {
      "text/plain": [
       "(2927, 82)"
      ]
     },
     "execution_count": 226,
     "metadata": {},
     "output_type": "execute_result"
    }
   ],
   "source": [
    "df.shape"
   ]
  },
  {
   "cell_type": "code",
   "execution_count": 227,
   "metadata": {},
   "outputs": [],
   "source": [
    "# Drop rows with significant missing data\n",
    "df = df.drop(index = [1327, 1712])\n"
   ]
  },
  {
   "cell_type": "code",
   "execution_count": 228,
   "metadata": {},
   "outputs": [],
   "source": [
    "# Drop Identifier columns\n",
    "df.drop(columns = ['PID'], inplace = True)"
   ]
  },
  {
   "cell_type": "code",
   "execution_count": 229,
   "metadata": {},
   "outputs": [
    {
     "data": {
      "text/plain": [
       "Index(['Id', 'MS SubClass', 'MS Zoning', 'Lot Frontage', 'Lot Area', 'Street',\n",
       "       'Alley', 'Lot Shape', 'Land Contour', 'Utilities', 'Lot Config',\n",
       "       'Land Slope', 'Neighborhood', 'Condition 1', 'Condition 2', 'Bldg Type',\n",
       "       'House Style', 'Overall Qual', 'Overall Cond', 'Year Built',\n",
       "       'Year Remod/Add', 'Roof Style', 'Roof Matl', 'Exterior 1st',\n",
       "       'Exterior 2nd', 'Mas Vnr Type', 'Mas Vnr Area', 'Exter Qual',\n",
       "       'Exter Cond', 'Foundation', 'Bsmt Qual', 'Bsmt Cond', 'Bsmt Exposure',\n",
       "       'BsmtFin Type 1', 'BsmtFin SF 1', 'BsmtFin Type 2', 'BsmtFin SF 2',\n",
       "       'Bsmt Unf SF', 'Total Bsmt SF', 'Heating', 'Heating QC', 'Central Air',\n",
       "       'Electrical', '1st Flr SF', '2nd Flr SF', 'Low Qual Fin SF',\n",
       "       'Gr Liv Area', 'Bsmt Full Bath', 'Bsmt Half Bath', 'Full Bath',\n",
       "       'Half Bath', 'Bedroom AbvGr', 'Kitchen AbvGr', 'Kitchen Qual',\n",
       "       'TotRms AbvGrd', 'Functional', 'Fireplaces', 'Fireplace Qu',\n",
       "       'Garage Type', 'Garage Yr Blt', 'Garage Finish', 'Garage Cars',\n",
       "       'Garage Area', 'Garage Qual', 'Garage Cond', 'Paved Drive',\n",
       "       'Wood Deck SF', 'Open Porch SF', 'Enclosed Porch', '3Ssn Porch',\n",
       "       'Screen Porch', 'Pool Area', 'Pool QC', 'Fence', 'Misc Feature',\n",
       "       'Misc Val', 'Mo Sold', 'Yr Sold', 'Sale Type', 'SalePrice',\n",
       "       'train/test'],\n",
       "      dtype='object')"
      ]
     },
     "execution_count": 229,
     "metadata": {},
     "output_type": "execute_result"
    }
   ],
   "source": [
    "df.columns"
   ]
  },
  {
   "cell_type": "code",
   "execution_count": 230,
   "metadata": {},
   "outputs": [],
   "source": [
    "# ID all nominal variables\n",
    "nominal = ['MS SubClass', 'MS Zoning', 'Street', 'Alley', 'Land Contour', 'Lot Config', 'Neighborhood', 'Condition 1',\n",
    "        'Condition 2', 'Bldg Type', 'House Style', 'Roof Style', 'Roof Matl', 'Exterior 1st', 'Exterior 2nd', \n",
    "        'Mas Vnr Type', 'Foundation', 'Heating', 'Central Air', 'Garage Type', 'Misc Feature', 'Sale Type', \n",
    "        'Mo Sold', 'Yr Sold']"
   ]
  },
  {
   "cell_type": "code",
   "execution_count": 231,
   "metadata": {},
   "outputs": [],
   "source": [
    "# ID all ordinal variables\n",
    "ordinal = ['Lot Shape', 'Utilities', 'Land Slope', 'Overall Cond', 'Exter Qual', 'Exter Cond', 'Bsmt Cond', \n",
    "           'Bsmt Qual', 'Bsmt Exposure', 'BsmtFin Type 1', 'BsmtFin Type 2', 'Heating QC', 'Electrical', \n",
    "           'Kitchen Qual', 'Functional', 'Fireplace Qu', 'Garage Finish', 'Garage Qual', 'Garage Cond', 'Paved Drive', \n",
    "          'Pool QC', 'Fence', 'Overall Qual', 'SalePrice']"
   ]
  },
  {
   "cell_type": "code",
   "execution_count": 232,
   "metadata": {},
   "outputs": [],
   "source": [
    "# ID all discrete variables\n",
    "discrete = ['Year Built', 'Year Remod/Add', 'Bsmt Full Bath', 'Bsmt Half Bath', 'Full Bath', 'Half Bath', 'Bedroom AbvGr',\n",
    "           'Kitchen AbvGr', 'TotRms AbvGrd', 'Fireplaces', 'Garage Yr Blt', 'Garage Cars', 'SalePrice']"
   ]
  },
  {
   "cell_type": "code",
   "execution_count": 233,
   "metadata": {},
   "outputs": [],
   "source": [
    "# ID all continuous variablse\n",
    "continuous = ['Lot Frontage', 'Lot Area', 'Mas Vnr Area', 'BsmtFin SF 1', 'BsmtFin SF 2', 'Bsmt Unf SF',\n",
    "             'Total Bsmt SF', '1st Flr SF', '2nd Flr SF', 'Low Qual Fin SF', 'Gr Liv Area', 'Garage Area',\n",
    "             'Wood Deck SF', 'Open Porch SF', 'Enclosed Porch', '3Ssn Porch', 'Screen Porch', 'Pool Area',\n",
    "             'Misc Val', 'SalePrice']"
   ]
  },
  {
   "cell_type": "markdown",
   "metadata": {},
   "source": [
    "# Clean the continuous variables"
   ]
  },
  {
   "cell_type": "code",
   "execution_count": 234,
   "metadata": {},
   "outputs": [],
   "source": [
    "# Lets start with the continuous variables\n",
    "df_c = df[continuous]"
   ]
  },
  {
   "cell_type": "code",
   "execution_count": 235,
   "metadata": {},
   "outputs": [
    {
     "name": "stdout",
     "output_type": "stream",
     "text": [
      "<class 'pandas.core.frame.DataFrame'>\n",
      "Int64Index: 2925 entries, 0 to 877\n",
      "Data columns (total 20 columns):\n",
      " #   Column           Non-Null Count  Dtype  \n",
      "---  ------           --------------  -----  \n",
      " 0   Lot Frontage     2435 non-null   float64\n",
      " 1   Lot Area         2925 non-null   int64  \n",
      " 2   Mas Vnr Area     2902 non-null   float64\n",
      " 3   BsmtFin SF 1     2925 non-null   float64\n",
      " 4   BsmtFin SF 2     2925 non-null   float64\n",
      " 5   Bsmt Unf SF      2925 non-null   float64\n",
      " 6   Total Bsmt SF    2925 non-null   float64\n",
      " 7   1st Flr SF       2925 non-null   int64  \n",
      " 8   2nd Flr SF       2925 non-null   int64  \n",
      " 9   Low Qual Fin SF  2925 non-null   int64  \n",
      " 10  Gr Liv Area      2925 non-null   int64  \n",
      " 11  Garage Area      2925 non-null   float64\n",
      " 12  Wood Deck SF     2925 non-null   int64  \n",
      " 13  Open Porch SF    2925 non-null   int64  \n",
      " 14  Enclosed Porch   2925 non-null   int64  \n",
      " 15  3Ssn Porch       2925 non-null   int64  \n",
      " 16  Screen Porch     2925 non-null   int64  \n",
      " 17  Pool Area        2925 non-null   int64  \n",
      " 18  Misc Val         2925 non-null   int64  \n",
      " 19  SalePrice        2047 non-null   float64\n",
      "dtypes: float64(8), int64(12)\n",
      "memory usage: 479.9 KB\n"
     ]
    }
   ],
   "source": [
    "df_c.info()"
   ]
  },
  {
   "cell_type": "code",
   "execution_count": 236,
   "metadata": {},
   "outputs": [
    {
     "name": "stdout",
     "output_type": "stream",
     "text": [
      "<class 'pandas.core.frame.DataFrame'>\n",
      "Int64Index: 2925 entries, 0 to 877\n",
      "Data columns (total 20 columns):\n",
      " #   Column           Non-Null Count  Dtype  \n",
      "---  ------           --------------  -----  \n",
      " 0   Lot Frontage     2925 non-null   float64\n",
      " 1   Lot Area         2925 non-null   int64  \n",
      " 2   Mas Vnr Area     2925 non-null   float64\n",
      " 3   BsmtFin SF 1     2925 non-null   float64\n",
      " 4   BsmtFin SF 2     2925 non-null   float64\n",
      " 5   Bsmt Unf SF      2925 non-null   float64\n",
      " 6   Total Bsmt SF    2925 non-null   float64\n",
      " 7   1st Flr SF       2925 non-null   int64  \n",
      " 8   2nd Flr SF       2925 non-null   int64  \n",
      " 9   Low Qual Fin SF  2925 non-null   int64  \n",
      " 10  Gr Liv Area      2925 non-null   int64  \n",
      " 11  Garage Area      2925 non-null   float64\n",
      " 12  Wood Deck SF     2925 non-null   int64  \n",
      " 13  Open Porch SF    2925 non-null   int64  \n",
      " 14  Enclosed Porch   2925 non-null   int64  \n",
      " 15  3Ssn Porch       2925 non-null   int64  \n",
      " 16  Screen Porch     2925 non-null   int64  \n",
      " 17  Pool Area        2925 non-null   int64  \n",
      " 18  Misc Val         2925 non-null   int64  \n",
      " 19  SalePrice        2047 non-null   float64\n",
      "dtypes: float64(8), int64(12)\n",
      "memory usage: 479.9 KB\n"
     ]
    }
   ],
   "source": [
    "# TRANSFORMATIONS FOR CONTINUOUS VARIABLES\n",
    "# Fill the NAs for these columns with 0\n",
    "df['Lot Frontage'] = df['Lot Frontage'].fillna(0)\n",
    "df['Mas Vnr Area'] = df['Mas Vnr Area'].fillna(0)\n",
    "df_c = df[continuous]\n",
    "df_c.info()\n"
   ]
  },
  {
   "cell_type": "code",
   "execution_count": 237,
   "metadata": {},
   "outputs": [
    {
     "data": {
      "text/plain": [
       "<AxesSubplot:>"
      ]
     },
     "execution_count": 237,
     "metadata": {},
     "output_type": "execute_result"
    },
    {
     "data": {
      "image/png": "[encoded data removed]",
      "text/plain": [
       "<Figure size 432x288 with 2 Axes>"
      ]
     },
     "metadata": {
      "needs_background": "light"
     },
     "output_type": "display_data"
    }
   ],
   "source": [
    "sns.heatmap(df_c.corr()[['SalePrice']].sort_values('SalePrice'),\n",
    "            annot=True,\n",
    "            vmin=-1,\n",
    "            vmax=1,\n",
    "            cmap='coolwarm')"
   ]
  },
  {
   "cell_type": "code",
   "execution_count": 238,
   "metadata": {},
   "outputs": [
    {
     "name": "stderr",
     "output_type": "stream",
     "text": [
      "/Users/adrianchapman/Dev/virtualenvs/py3/lib/python3.8/site-packages/seaborn/_decorators.py:36: FutureWarning: Pass the following variables as keyword args: x, y, data. From version 0.12, the only valid positional argument will be `data`, and passing other arguments without an explicit keyword will result in an error or misinterpretation.\n",
      "  warnings.warn(\n"
     ]
    },
    {
     "data": {
      "image/png": "[encoded data removed]",
      "text/plain": [
       "<Figure size 720x432 with 1 Axes>"
      ]
     },
     "metadata": {
      "needs_background": "light"
     },
     "output_type": "display_data"
    }
   ],
   "source": [
    "# Plot relationship between square footage and sale price\n",
    "plt.figure(figsize = (10, 6))\n",
    "sns.regplot('Gr Liv Area', 'SalePrice', df, ci=None, \n",
    "            scatter_kws = {'s': 1}, color = 'purple', \n",
    "            line_kws = {'color': 'purple', 'alpha': 0.3})\n",
    "#plt.axhline(elec['demand'].mean(), color = 'grey')\n",
    "plt.xlabel('Above Ground Living Area (sqft)')\n",
    "plt.ylabel('Sale Price')\n",
    "plt.title('Relationship Between Square Footage and Price')\n",
    "plt.savefig('../figs/sqft_scatter.png');"
   ]
  },
  {
   "cell_type": "markdown",
   "metadata": {},
   "source": [
    "# Clean the discrete variables"
   ]
  },
  {
   "cell_type": "code",
   "execution_count": 239,
   "metadata": {},
   "outputs": [],
   "source": [
    "# Create dataframe for discrete variables\n",
    "df_d = df[discrete]"
   ]
  },
  {
   "cell_type": "code",
   "execution_count": 240,
   "metadata": {},
   "outputs": [
    {
     "data": {
      "text/html": [
       "<div>\n",
       "<style scoped>\n",
       "    .dataframe tbody tr th:only-of-type {\n",
       "        vertical-align: middle;\n",
       "    }\n",
       "\n",
       "    .dataframe tbody tr th {\n",
       "        vertical-align: top;\n",
       "    }\n",
       "\n",
       "    .dataframe thead th {\n",
       "        text-align: right;\n",
       "    }\n",
       "</style>\n",
       "<table border=\"1\" class=\"dataframe\">\n",
       "  <thead>\n",
       "    <tr style=\"text-align: right;\">\n",
       "      <th></th>\n",
       "      <th>Year Built</th>\n",
       "      <th>Year Remod/Add</th>\n",
       "      <th>Bsmt Full Bath</th>\n",
       "      <th>Bsmt Half Bath</th>\n",
       "      <th>Full Bath</th>\n",
       "      <th>Half Bath</th>\n",
       "      <th>Bedroom AbvGr</th>\n",
       "      <th>Kitchen AbvGr</th>\n",
       "      <th>TotRms AbvGrd</th>\n",
       "      <th>Fireplaces</th>\n",
       "      <th>Garage Yr Blt</th>\n",
       "      <th>Garage Cars</th>\n",
       "      <th>SalePrice</th>\n",
       "    </tr>\n",
       "  </thead>\n",
       "  <tbody>\n",
       "    <tr>\n",
       "      <th>0</th>\n",
       "      <td>1976</td>\n",
       "      <td>2005</td>\n",
       "      <td>0.0</td>\n",
       "      <td>0.0</td>\n",
       "      <td>2</td>\n",
       "      <td>1</td>\n",
       "      <td>3</td>\n",
       "      <td>1</td>\n",
       "      <td>6</td>\n",
       "      <td>0</td>\n",
       "      <td>1976.0</td>\n",
       "      <td>2.0</td>\n",
       "      <td>130500.0</td>\n",
       "    </tr>\n",
       "    <tr>\n",
       "      <th>1</th>\n",
       "      <td>1996</td>\n",
       "      <td>1997</td>\n",
       "      <td>1.0</td>\n",
       "      <td>0.0</td>\n",
       "      <td>2</td>\n",
       "      <td>1</td>\n",
       "      <td>4</td>\n",
       "      <td>1</td>\n",
       "      <td>8</td>\n",
       "      <td>1</td>\n",
       "      <td>1997.0</td>\n",
       "      <td>2.0</td>\n",
       "      <td>220000.0</td>\n",
       "    </tr>\n",
       "    <tr>\n",
       "      <th>2</th>\n",
       "      <td>1953</td>\n",
       "      <td>2007</td>\n",
       "      <td>1.0</td>\n",
       "      <td>0.0</td>\n",
       "      <td>1</td>\n",
       "      <td>0</td>\n",
       "      <td>3</td>\n",
       "      <td>1</td>\n",
       "      <td>5</td>\n",
       "      <td>0</td>\n",
       "      <td>1953.0</td>\n",
       "      <td>1.0</td>\n",
       "      <td>109000.0</td>\n",
       "    </tr>\n",
       "    <tr>\n",
       "      <th>3</th>\n",
       "      <td>2006</td>\n",
       "      <td>2007</td>\n",
       "      <td>0.0</td>\n",
       "      <td>0.0</td>\n",
       "      <td>2</td>\n",
       "      <td>1</td>\n",
       "      <td>3</td>\n",
       "      <td>1</td>\n",
       "      <td>7</td>\n",
       "      <td>0</td>\n",
       "      <td>2007.0</td>\n",
       "      <td>2.0</td>\n",
       "      <td>174000.0</td>\n",
       "    </tr>\n",
       "    <tr>\n",
       "      <th>4</th>\n",
       "      <td>1900</td>\n",
       "      <td>1993</td>\n",
       "      <td>0.0</td>\n",
       "      <td>0.0</td>\n",
       "      <td>2</td>\n",
       "      <td>0</td>\n",
       "      <td>3</td>\n",
       "      <td>1</td>\n",
       "      <td>6</td>\n",
       "      <td>0</td>\n",
       "      <td>1957.0</td>\n",
       "      <td>2.0</td>\n",
       "      <td>138500.0</td>\n",
       "    </tr>\n",
       "  </tbody>\n",
       "</table>\n",
       "</div>"
      ],
      "text/plain": [
       "   Year Built  Year Remod/Add  Bsmt Full Bath  Bsmt Half Bath  Full Bath  \\\n",
       "0        1976            2005             0.0             0.0          2   \n",
       "1        1996            1997             1.0             0.0          2   \n",
       "2        1953            2007             1.0             0.0          1   \n",
       "3        2006            2007             0.0             0.0          2   \n",
       "4        1900            1993             0.0             0.0          2   \n",
       "\n",
       "   Half Bath  Bedroom AbvGr  Kitchen AbvGr  TotRms AbvGrd  Fireplaces  \\\n",
       "0          1              3              1              6           0   \n",
       "1          1              4              1              8           1   \n",
       "2          0              3              1              5           0   \n",
       "3          1              3              1              7           0   \n",
       "4          0              3              1              6           0   \n",
       "\n",
       "   Garage Yr Blt  Garage Cars  SalePrice  \n",
       "0         1976.0          2.0   130500.0  \n",
       "1         1997.0          2.0   220000.0  \n",
       "2         1953.0          1.0   109000.0  \n",
       "3         2007.0          2.0   174000.0  \n",
       "4         1957.0          2.0   138500.0  "
      ]
     },
     "execution_count": 240,
     "metadata": {},
     "output_type": "execute_result"
    }
   ],
   "source": [
    "df_d.head()"
   ]
  },
  {
   "cell_type": "code",
   "execution_count": 241,
   "metadata": {},
   "outputs": [
    {
     "name": "stdout",
     "output_type": "stream",
     "text": [
      "<class 'pandas.core.frame.DataFrame'>\n",
      "Int64Index: 2925 entries, 0 to 877\n",
      "Data columns (total 13 columns):\n",
      " #   Column          Non-Null Count  Dtype  \n",
      "---  ------          --------------  -----  \n",
      " 0   Year Built      2925 non-null   int64  \n",
      " 1   Year Remod/Add  2925 non-null   int64  \n",
      " 2   Bsmt Full Bath  2924 non-null   float64\n",
      " 3   Bsmt Half Bath  2924 non-null   float64\n",
      " 4   Full Bath       2925 non-null   int64  \n",
      " 5   Half Bath       2925 non-null   int64  \n",
      " 6   Bedroom AbvGr   2925 non-null   int64  \n",
      " 7   Kitchen AbvGr   2925 non-null   int64  \n",
      " 8   TotRms AbvGrd   2925 non-null   int64  \n",
      " 9   Fireplaces      2925 non-null   int64  \n",
      " 10  Garage Yr Blt   2767 non-null   float64\n",
      " 11  Garage Cars     2925 non-null   float64\n",
      " 12  SalePrice       2047 non-null   float64\n",
      "dtypes: float64(5), int64(8)\n",
      "memory usage: 319.9 KB\n"
     ]
    }
   ],
   "source": [
    "df_d.info()"
   ]
  },
  {
   "cell_type": "code",
   "execution_count": 242,
   "metadata": {},
   "outputs": [
    {
     "data": {
      "text/plain": [
       "0       0.0\n",
       "1924    0.0\n",
       "1925    0.0\n",
       "1926    0.0\n",
       "1927    0.0\n",
       "       ... \n",
       "761     2.0\n",
       "1280    2.0\n",
       "1137    2.0\n",
       "1519    2.0\n",
       "616     NaN\n",
       "Name: Bsmt Half Bath, Length: 2925, dtype: float64"
      ]
     },
     "execution_count": 242,
     "metadata": {},
     "output_type": "execute_result"
    }
   ],
   "source": [
    "# Explore some individual variables\n",
    "df_d['Bsmt Half Bath'].sort_values()"
   ]
  },
  {
   "cell_type": "code",
   "execution_count": 243,
   "metadata": {},
   "outputs": [
    {
     "data": {
      "text/html": [
       "<div>\n",
       "<style scoped>\n",
       "    .dataframe tbody tr th:only-of-type {\n",
       "        vertical-align: middle;\n",
       "    }\n",
       "\n",
       "    .dataframe tbody tr th {\n",
       "        vertical-align: top;\n",
       "    }\n",
       "\n",
       "    .dataframe thead th {\n",
       "        text-align: right;\n",
       "    }\n",
       "</style>\n",
       "<table border=\"1\" class=\"dataframe\">\n",
       "  <thead>\n",
       "    <tr style=\"text-align: right;\">\n",
       "      <th></th>\n",
       "      <th>Garage Yr Blt</th>\n",
       "      <th>SalePrice</th>\n",
       "    </tr>\n",
       "  </thead>\n",
       "  <tbody>\n",
       "    <tr>\n",
       "      <th>Garage Yr Blt</th>\n",
       "      <td>1.000000</td>\n",
       "      <td>0.534096</td>\n",
       "    </tr>\n",
       "    <tr>\n",
       "      <th>SalePrice</th>\n",
       "      <td>0.534096</td>\n",
       "      <td>1.000000</td>\n",
       "    </tr>\n",
       "  </tbody>\n",
       "</table>\n",
       "</div>"
      ],
      "text/plain": [
       "               Garage Yr Blt  SalePrice\n",
       "Garage Yr Blt       1.000000   0.534096\n",
       "SalePrice           0.534096   1.000000"
      ]
     },
     "execution_count": 243,
     "metadata": {},
     "output_type": "execute_result"
    }
   ],
   "source": [
    "# Explore individual variables\n",
    "test_vars = ['Garage Yr Blt', 'SalePrice']\n",
    "df_test = df_d[test_vars]\n",
    "df_test.corr()"
   ]
  },
  {
   "cell_type": "code",
   "execution_count": 244,
   "metadata": {},
   "outputs": [
    {
     "name": "stdout",
     "output_type": "stream",
     "text": [
      "<class 'pandas.core.frame.DataFrame'>\n",
      "Int64Index: 2925 entries, 0 to 877\n",
      "Data columns (total 16 columns):\n",
      " #   Column              Non-Null Count  Dtype  \n",
      "---  ------              --------------  -----  \n",
      " 0   Year Built          2925 non-null   int64  \n",
      " 1   Year Remod/Add      2925 non-null   int64  \n",
      " 2   Bsmt Full Bath      2925 non-null   float64\n",
      " 3   Bsmt Half Bath      2925 non-null   float64\n",
      " 4   Full Bath           2925 non-null   int64  \n",
      " 5   Half Bath           2925 non-null   int64  \n",
      " 6   Bedroom AbvGr       2925 non-null   int64  \n",
      " 7   Kitchen AbvGr       2925 non-null   int64  \n",
      " 8   TotRms AbvGrd       2925 non-null   int64  \n",
      " 9   Fireplaces          2925 non-null   int64  \n",
      " 10  Garage Yr Blt       2925 non-null   float64\n",
      " 11  Garage Cars         2925 non-null   float64\n",
      " 12  SalePrice           2047 non-null   float64\n",
      " 13  Age when sold       2925 non-null   int64  \n",
      " 14  Time Since Remodle  2925 non-null   int64  \n",
      " 15  Total Bath          2925 non-null   float64\n",
      "dtypes: float64(6), int64(10)\n",
      "memory usage: 388.5 KB\n"
     ]
    }
   ],
   "source": [
    "# TRANSFORMATIONS FOR DISCRETE VARIABLES\n",
    "df['Bsmt Full Bath'] = df['Bsmt Full Bath'].fillna(0)\n",
    "df['Bsmt Half Bath'] = df['Bsmt Half Bath'].fillna(0)\n",
    "df['Garage Yr Blt'] = df.groupby(\"Year Built\").transform(lambda x: x.fillna(x.mean()))\n",
    "df['Age when sold'] = df['Yr Sold'] - df['Year Built']\n",
    "df['Time Since Remodle'] = df['Yr Sold'] - df['Year Remod/Add']\n",
    "df['Total Bath'] = df['Bsmt Full Bath'] + df['Bsmt Half Bath']*.5 + df['Full Bath'] + df['Half Bath']*.5\n",
    "new_discrete = ['Age when sold', 'Time Since Remodle', 'Total Bath']\n",
    "discrete.extend(new_discrete)\n",
    "df_d = df[discrete]\n",
    "df_d.info()\n",
    "\n",
    "# For imputing with a group-by mean:\n",
    "# https://stackoverflow.com/questions/19966018/pandas-filling-missing-values-by-mean-in-each-group"
   ]
  },
  {
   "cell_type": "code",
   "execution_count": 245,
   "metadata": {},
   "outputs": [
    {
     "data": {
      "text/plain": [
       "<AxesSubplot:>"
      ]
     },
     "execution_count": 245,
     "metadata": {},
     "output_type": "execute_result"
    },
    {
     "data": {
      "image/png": "[encoded data removed]",
      "text/plain": [
       "<Figure size 432x288 with 2 Axes>"
      ]
     },
     "metadata": {
      "needs_background": "light"
     },
     "output_type": "display_data"
    }
   ],
   "source": [
    "# Heatmap for discrete variable correlation with sale price\n",
    "sns.heatmap(df_d.corr()[['SalePrice']].sort_values('SalePrice'),\n",
    "            annot=True,\n",
    "            vmin=-1,\n",
    "            vmax=1,\n",
    "            cmap='coolwarm')"
   ]
  },
  {
   "cell_type": "code",
   "execution_count": 246,
   "metadata": {},
   "outputs": [],
   "source": [
    "# Function for use with ridge plot - see source in next block\n",
    "def label(x, color, label):\n",
    "    ax = plt.gca()\n",
    "    ax.text(-0.1, .2, label, fontweight=\"bold\", color=\"black\",\n",
    "            ha=\"left\", va=\"center\", transform=ax.transAxes)"
   ]
  },
  {
   "cell_type": "code",
   "execution_count": 247,
   "metadata": {},
   "outputs": [
    {
     "name": "stderr",
     "output_type": "stream",
     "text": [
      "/Users/adrianchapman/Dev/virtualenvs/py3/lib/python3.8/site-packages/seaborn/distributions.py:1659: FutureWarning: The `bw` parameter is deprecated in favor of `bw_method` and `bw_adjust`. Using 0.2 for `bw_method`, but please see the docs for the new parameters and update your code.\n",
      "  warnings.warn(msg, FutureWarning)\n",
      "/Users/adrianchapman/Dev/virtualenvs/py3/lib/python3.8/site-packages/seaborn/distributions.py:1659: FutureWarning: The `bw` parameter is deprecated in favor of `bw_method` and `bw_adjust`. Using 0.2 for `bw_method`, but please see the docs for the new parameters and update your code.\n",
      "  warnings.warn(msg, FutureWarning)\n",
      "/Users/adrianchapman/Dev/virtualenvs/py3/lib/python3.8/site-packages/seaborn/distributions.py:1659: FutureWarning: The `bw` parameter is deprecated in favor of `bw_method` and `bw_adjust`. Using 0.2 for `bw_method`, but please see the docs for the new parameters and update your code.\n",
      "  warnings.warn(msg, FutureWarning)\n",
      "/Users/adrianchapman/Dev/virtualenvs/py3/lib/python3.8/site-packages/seaborn/distributions.py:1659: FutureWarning: The `bw` parameter is deprecated in favor of `bw_method` and `bw_adjust`. Using 0.2 for `bw_method`, but please see the docs for the new parameters and update your code.\n",
      "  warnings.warn(msg, FutureWarning)\n",
      "/Users/adrianchapman/Dev/virtualenvs/py3/lib/python3.8/site-packages/seaborn/distributions.py:1659: FutureWarning: The `bw` parameter is deprecated in favor of `bw_method` and `bw_adjust`. Using 0.2 for `bw_method`, but please see the docs for the new parameters and update your code.\n",
      "  warnings.warn(msg, FutureWarning)\n",
      "/Users/adrianchapman/Dev/virtualenvs/py3/lib/python3.8/site-packages/seaborn/distributions.py:1659: FutureWarning: The `bw` parameter is deprecated in favor of `bw_method` and `bw_adjust`. Using 0.2 for `bw_method`, but please see the docs for the new parameters and update your code.\n",
      "  warnings.warn(msg, FutureWarning)\n",
      "/Users/adrianchapman/Dev/virtualenvs/py3/lib/python3.8/site-packages/seaborn/distributions.py:305: UserWarning: Dataset has 0 variance; skipping density estimate.\n",
      "  warnings.warn(msg, UserWarning)\n"
     ]
    },
    {
     "data": {
      "image/png": "[encoded data removed]",
      "text/plain": [
       "<Figure size 450x540 with 6 Axes>"
      ]
     },
     "metadata": {
      "needs_background": "light"
     },
     "output_type": "display_data"
    }
   ],
   "source": [
    "# Ridge plot for number of garage spaces and sale price.  See source below.\n",
    "ridge_plot = sns.FacetGrid(df, row=\"Garage Cars\", hue=\"Garage Cars\", aspect=5, height=1.25, palette = 'rocket')\n",
    "# Draw the densities in a few steps\n",
    "ridge_plot.map(sns.kdeplot, \"SalePrice\", clip_on=False, shade=True, alpha=0.7, lw=4, bw=.2)\n",
    "#g.map(sns.kdeplot, \"co2_emission\", clip_on=False, color=\"b\", lw=4, bw=.2)\n",
    "ridge_plot.map(plt.axhline, y=0, lw=4, clip_on=False)\n",
    "ridge_plot.map(label, \"SalePrice\")\n",
    "# Set the subplots to overlap\n",
    "ridge_plot.fig.subplots_adjust(hspace=-0.01)\n",
    "# Remove axes details that don't play well with overlap\n",
    "ridge_plot.set_titles(\"\")\n",
    "ridge_plot.set(yticks=[])\n",
    "#ridge_plot.set_xlabel(\"CO2 Emission\",fontsize=30)\n",
    "ridge_plot.despine(bottom=True, left=True)\n",
    "ridge_plot.fig.suptitle('Number of Cars in Garage and Distribution of Sale Price')\n",
    "ridge_plot.savefig(\"../figs/ridgeline_num_cars.png\")\n",
    "#https://datavizpyr.com/ridgeline-plot-in-python-with-seaborn/"
   ]
  },
  {
   "cell_type": "markdown",
   "metadata": {},
   "source": [
    "# Clean the nominal variables"
   ]
  },
  {
   "cell_type": "code",
   "execution_count": 248,
   "metadata": {},
   "outputs": [
    {
     "data": {
      "text/html": [
       "<div>\n",
       "<style scoped>\n",
       "    .dataframe tbody tr th:only-of-type {\n",
       "        vertical-align: middle;\n",
       "    }\n",
       "\n",
       "    .dataframe tbody tr th {\n",
       "        vertical-align: top;\n",
       "    }\n",
       "\n",
       "    .dataframe thead th {\n",
       "        text-align: right;\n",
       "    }\n",
       "</style>\n",
       "<table border=\"1\" class=\"dataframe\">\n",
       "  <thead>\n",
       "    <tr style=\"text-align: right;\">\n",
       "      <th></th>\n",
       "      <th>MS SubClass</th>\n",
       "      <th>MS Zoning</th>\n",
       "      <th>Street</th>\n",
       "      <th>Alley</th>\n",
       "      <th>Land Contour</th>\n",
       "      <th>Lot Config</th>\n",
       "      <th>Neighborhood</th>\n",
       "      <th>Condition 1</th>\n",
       "      <th>Condition 2</th>\n",
       "      <th>Bldg Type</th>\n",
       "      <th>...</th>\n",
       "      <th>Exterior 2nd</th>\n",
       "      <th>Mas Vnr Type</th>\n",
       "      <th>Foundation</th>\n",
       "      <th>Heating</th>\n",
       "      <th>Central Air</th>\n",
       "      <th>Garage Type</th>\n",
       "      <th>Misc Feature</th>\n",
       "      <th>Sale Type</th>\n",
       "      <th>Mo Sold</th>\n",
       "      <th>Yr Sold</th>\n",
       "    </tr>\n",
       "  </thead>\n",
       "  <tbody>\n",
       "    <tr>\n",
       "      <th>0</th>\n",
       "      <td>60</td>\n",
       "      <td>RL</td>\n",
       "      <td>Pave</td>\n",
       "      <td>NaN</td>\n",
       "      <td>Lvl</td>\n",
       "      <td>CulDSac</td>\n",
       "      <td>Sawyer</td>\n",
       "      <td>RRAe</td>\n",
       "      <td>Norm</td>\n",
       "      <td>1Fam</td>\n",
       "      <td>...</td>\n",
       "      <td>Plywood</td>\n",
       "      <td>BrkFace</td>\n",
       "      <td>CBlock</td>\n",
       "      <td>GasA</td>\n",
       "      <td>Y</td>\n",
       "      <td>Attchd</td>\n",
       "      <td>NaN</td>\n",
       "      <td>WD</td>\n",
       "      <td>3</td>\n",
       "      <td>2010</td>\n",
       "    </tr>\n",
       "    <tr>\n",
       "      <th>1</th>\n",
       "      <td>60</td>\n",
       "      <td>RL</td>\n",
       "      <td>Pave</td>\n",
       "      <td>NaN</td>\n",
       "      <td>Lvl</td>\n",
       "      <td>CulDSac</td>\n",
       "      <td>SawyerW</td>\n",
       "      <td>Norm</td>\n",
       "      <td>Norm</td>\n",
       "      <td>1Fam</td>\n",
       "      <td>...</td>\n",
       "      <td>VinylSd</td>\n",
       "      <td>BrkFace</td>\n",
       "      <td>PConc</td>\n",
       "      <td>GasA</td>\n",
       "      <td>Y</td>\n",
       "      <td>Attchd</td>\n",
       "      <td>NaN</td>\n",
       "      <td>WD</td>\n",
       "      <td>4</td>\n",
       "      <td>2009</td>\n",
       "    </tr>\n",
       "    <tr>\n",
       "      <th>2</th>\n",
       "      <td>20</td>\n",
       "      <td>RL</td>\n",
       "      <td>Pave</td>\n",
       "      <td>NaN</td>\n",
       "      <td>Lvl</td>\n",
       "      <td>Inside</td>\n",
       "      <td>NAmes</td>\n",
       "      <td>Norm</td>\n",
       "      <td>Norm</td>\n",
       "      <td>1Fam</td>\n",
       "      <td>...</td>\n",
       "      <td>VinylSd</td>\n",
       "      <td>None</td>\n",
       "      <td>CBlock</td>\n",
       "      <td>GasA</td>\n",
       "      <td>Y</td>\n",
       "      <td>Detchd</td>\n",
       "      <td>NaN</td>\n",
       "      <td>WD</td>\n",
       "      <td>1</td>\n",
       "      <td>2010</td>\n",
       "    </tr>\n",
       "    <tr>\n",
       "      <th>3</th>\n",
       "      <td>60</td>\n",
       "      <td>RL</td>\n",
       "      <td>Pave</td>\n",
       "      <td>NaN</td>\n",
       "      <td>Lvl</td>\n",
       "      <td>Inside</td>\n",
       "      <td>Timber</td>\n",
       "      <td>Norm</td>\n",
       "      <td>Norm</td>\n",
       "      <td>1Fam</td>\n",
       "      <td>...</td>\n",
       "      <td>VinylSd</td>\n",
       "      <td>None</td>\n",
       "      <td>PConc</td>\n",
       "      <td>GasA</td>\n",
       "      <td>Y</td>\n",
       "      <td>BuiltIn</td>\n",
       "      <td>NaN</td>\n",
       "      <td>WD</td>\n",
       "      <td>4</td>\n",
       "      <td>2010</td>\n",
       "    </tr>\n",
       "    <tr>\n",
       "      <th>4</th>\n",
       "      <td>50</td>\n",
       "      <td>RL</td>\n",
       "      <td>Pave</td>\n",
       "      <td>NaN</td>\n",
       "      <td>Lvl</td>\n",
       "      <td>Inside</td>\n",
       "      <td>SawyerW</td>\n",
       "      <td>Norm</td>\n",
       "      <td>Norm</td>\n",
       "      <td>1Fam</td>\n",
       "      <td>...</td>\n",
       "      <td>Plywood</td>\n",
       "      <td>None</td>\n",
       "      <td>PConc</td>\n",
       "      <td>GasA</td>\n",
       "      <td>Y</td>\n",
       "      <td>Detchd</td>\n",
       "      <td>NaN</td>\n",
       "      <td>WD</td>\n",
       "      <td>3</td>\n",
       "      <td>2010</td>\n",
       "    </tr>\n",
       "  </tbody>\n",
       "</table>\n",
       "<p>5 rows × 24 columns</p>\n",
       "</div>"
      ],
      "text/plain": [
       "   MS SubClass MS Zoning Street Alley Land Contour Lot Config Neighborhood  \\\n",
       "0           60        RL   Pave   NaN          Lvl    CulDSac       Sawyer   \n",
       "1           60        RL   Pave   NaN          Lvl    CulDSac      SawyerW   \n",
       "2           20        RL   Pave   NaN          Lvl     Inside        NAmes   \n",
       "3           60        RL   Pave   NaN          Lvl     Inside       Timber   \n",
       "4           50        RL   Pave   NaN          Lvl     Inside      SawyerW   \n",
       "\n",
       "  Condition 1 Condition 2 Bldg Type  ... Exterior 2nd Mas Vnr Type Foundation  \\\n",
       "0        RRAe        Norm      1Fam  ...      Plywood      BrkFace     CBlock   \n",
       "1        Norm        Norm      1Fam  ...      VinylSd      BrkFace      PConc   \n",
       "2        Norm        Norm      1Fam  ...      VinylSd         None     CBlock   \n",
       "3        Norm        Norm      1Fam  ...      VinylSd         None      PConc   \n",
       "4        Norm        Norm      1Fam  ...      Plywood         None      PConc   \n",
       "\n",
       "  Heating Central Air Garage Type Misc Feature Sale Type Mo Sold Yr Sold  \n",
       "0    GasA           Y      Attchd          NaN       WD        3    2010  \n",
       "1    GasA           Y      Attchd          NaN       WD        4    2009  \n",
       "2    GasA           Y      Detchd          NaN       WD        1    2010  \n",
       "3    GasA           Y     BuiltIn          NaN       WD        4    2010  \n",
       "4    GasA           Y      Detchd          NaN       WD        3    2010  \n",
       "\n",
       "[5 rows x 24 columns]"
      ]
     },
     "execution_count": 248,
     "metadata": {},
     "output_type": "execute_result"
    }
   ],
   "source": [
    "# Create a dataframe for nominal variables\n",
    "df_n = df[nominal]\n",
    "df_n.head()"
   ]
  },
  {
   "cell_type": "code",
   "execution_count": 249,
   "metadata": {},
   "outputs": [
    {
     "name": "stdout",
     "output_type": "stream",
     "text": [
      "<class 'pandas.core.frame.DataFrame'>\n",
      "Int64Index: 2925 entries, 0 to 877\n",
      "Data columns (total 24 columns):\n",
      " #   Column        Non-Null Count  Dtype \n",
      "---  ------        --------------  ----- \n",
      " 0   MS SubClass   2925 non-null   int64 \n",
      " 1   MS Zoning     2925 non-null   object\n",
      " 2   Street        2925 non-null   object\n",
      " 3   Alley         198 non-null    object\n",
      " 4   Land Contour  2925 non-null   object\n",
      " 5   Lot Config    2925 non-null   object\n",
      " 6   Neighborhood  2925 non-null   object\n",
      " 7   Condition 1   2925 non-null   object\n",
      " 8   Condition 2   2925 non-null   object\n",
      " 9   Bldg Type     2925 non-null   object\n",
      " 10  House Style   2925 non-null   object\n",
      " 11  Roof Style    2925 non-null   object\n",
      " 12  Roof Matl     2925 non-null   object\n",
      " 13  Exterior 1st  2925 non-null   object\n",
      " 14  Exterior 2nd  2925 non-null   object\n",
      " 15  Mas Vnr Type  2902 non-null   object\n",
      " 16  Foundation    2925 non-null   object\n",
      " 17  Heating       2925 non-null   object\n",
      " 18  Central Air   2925 non-null   object\n",
      " 19  Garage Type   2768 non-null   object\n",
      " 20  Misc Feature  105 non-null    object\n",
      " 21  Sale Type     2925 non-null   object\n",
      " 22  Mo Sold       2925 non-null   int64 \n",
      " 23  Yr Sold       2925 non-null   int64 \n",
      "dtypes: int64(3), object(21)\n",
      "memory usage: 571.3+ KB\n"
     ]
    }
   ],
   "source": [
    "df_n.info()"
   ]
  },
  {
   "cell_type": "code",
   "execution_count": 250,
   "metadata": {},
   "outputs": [
    {
     "name": "stdout",
     "output_type": "stream",
     "text": [
      "<class 'pandas.core.frame.DataFrame'>\n",
      "Int64Index: 2925 entries, 0 to 877\n",
      "Data columns (total 24 columns):\n",
      " #   Column        Non-Null Count  Dtype \n",
      "---  ------        --------------  ----- \n",
      " 0   MS SubClass   2925 non-null   object\n",
      " 1   MS Zoning     2925 non-null   object\n",
      " 2   Street        2925 non-null   object\n",
      " 3   Alley         2925 non-null   object\n",
      " 4   Land Contour  2925 non-null   object\n",
      " 5   Lot Config    2925 non-null   object\n",
      " 6   Neighborhood  2925 non-null   object\n",
      " 7   Condition 1   2925 non-null   object\n",
      " 8   Condition 2   2925 non-null   object\n",
      " 9   Bldg Type     2925 non-null   object\n",
      " 10  House Style   2925 non-null   object\n",
      " 11  Roof Style    2925 non-null   object\n",
      " 12  Roof Matl     2925 non-null   object\n",
      " 13  Exterior 1st  2925 non-null   object\n",
      " 14  Exterior 2nd  2925 non-null   object\n",
      " 15  Mas Vnr Type  2925 non-null   object\n",
      " 16  Foundation    2925 non-null   object\n",
      " 17  Heating       2925 non-null   object\n",
      " 18  Central Air   2925 non-null   object\n",
      " 19  Garage Type   2925 non-null   object\n",
      " 20  Misc Feature  2925 non-null   object\n",
      " 21  Sale Type     2925 non-null   object\n",
      " 22  Mo Sold       2925 non-null   int64 \n",
      " 23  Yr Sold       2925 non-null   int64 \n",
      "dtypes: int64(2), object(22)\n",
      "memory usage: 571.3+ KB\n"
     ]
    }
   ],
   "source": [
    "# TRANSFORMATIONS FOR NOMINAL VARIABLES\n",
    "df['Alley'] = df['Alley'].fillna('None')\n",
    "df['Mas Vnr Type'] = df['Mas Vnr Type'].fillna('None')\n",
    "df['Garage Type'] = df['Garage Type'].fillna('None')\n",
    "df['Misc Feature'] = df['Misc Feature'].fillna('None')\n",
    "df['MS SubClass'] = df['MS SubClass'].astype(str)\n",
    "df_n = df[nominal]\n",
    "df_n.info()"
   ]
  },
  {
   "cell_type": "code",
   "execution_count": 251,
   "metadata": {},
   "outputs": [
    {
     "data": {
      "text/plain": [
       "['StoneBr',\n",
       " 'NridgHt',\n",
       " 'NoRidge',\n",
       " 'GrnHill',\n",
       " 'Veenker',\n",
       " 'Timber',\n",
       " 'Somerst',\n",
       " 'ClearCr',\n",
       " 'Crawfor',\n",
       " 'CollgCr',\n",
       " 'Blmngtn',\n",
       " 'NWAmes',\n",
       " 'Gilbert',\n",
       " 'Greens',\n",
       " 'SawyerW',\n",
       " 'Mitchel',\n",
       " 'NAmes',\n",
       " 'Blueste',\n",
       " 'NPkVill',\n",
       " 'Sawyer',\n",
       " 'Landmrk',\n",
       " 'SWISU',\n",
       " 'Edwards',\n",
       " 'BrkSide',\n",
       " 'OldTown',\n",
       " 'BrDale',\n",
       " 'IDOTRR',\n",
       " 'MeadowV']"
      ]
     },
     "execution_count": 251,
     "metadata": {},
     "output_type": "execute_result"
    }
   ],
   "source": [
    "# Get a list of all neighborhoods\n",
    "hood_list = list(df.groupby('Neighborhood').SalePrice.mean().sort_values(ascending=False).index)\n",
    "hood_list"
   ]
  },
  {
   "cell_type": "code",
   "execution_count": 252,
   "metadata": {},
   "outputs": [
    {
     "data": {
      "image/png": "[encoded data removed]",
      "text/plain": [
       "<Figure size 576x720 with 1 Axes>"
      ]
     },
     "metadata": {
      "needs_background": "light"
     },
     "output_type": "display_data"
    }
   ],
   "source": [
    "# Make a boxplot for sale price by neighborhood\n",
    "plt.figure(figsize = (8, 10))\n",
    "sns.boxplot(y = 'Neighborhood', x = 'SalePrice', data=df, palette='rocket', order = hood_list).set_title(\"Sale Price by Neighborhood\");\n",
    "plt.savefig(\"../figs/boxplot_neighborhoods.png\")"
   ]
  },
  {
   "cell_type": "code",
   "execution_count": 253,
   "metadata": {},
   "outputs": [],
   "source": [
    "# One hot encode to get all dummy variables for nominal variables\n",
    "df = pd.get_dummies(df, columns=nominal, drop_first=True)"
   ]
  },
  {
   "cell_type": "markdown",
   "metadata": {},
   "source": [
    "# Clean ordinal variables"
   ]
  },
  {
   "cell_type": "code",
   "execution_count": 254,
   "metadata": {},
   "outputs": [
    {
     "data": {
      "text/html": [
       "<div>\n",
       "<style scoped>\n",
       "    .dataframe tbody tr th:only-of-type {\n",
       "        vertical-align: middle;\n",
       "    }\n",
       "\n",
       "    .dataframe tbody tr th {\n",
       "        vertical-align: top;\n",
       "    }\n",
       "\n",
       "    .dataframe thead th {\n",
       "        text-align: right;\n",
       "    }\n",
       "</style>\n",
       "<table border=\"1\" class=\"dataframe\">\n",
       "  <thead>\n",
       "    <tr style=\"text-align: right;\">\n",
       "      <th></th>\n",
       "      <th>Lot Shape</th>\n",
       "      <th>Utilities</th>\n",
       "      <th>Land Slope</th>\n",
       "      <th>Overall Cond</th>\n",
       "      <th>Exter Qual</th>\n",
       "      <th>Exter Cond</th>\n",
       "      <th>Bsmt Cond</th>\n",
       "      <th>Bsmt Qual</th>\n",
       "      <th>Bsmt Exposure</th>\n",
       "      <th>BsmtFin Type 1</th>\n",
       "      <th>...</th>\n",
       "      <th>Functional</th>\n",
       "      <th>Fireplace Qu</th>\n",
       "      <th>Garage Finish</th>\n",
       "      <th>Garage Qual</th>\n",
       "      <th>Garage Cond</th>\n",
       "      <th>Paved Drive</th>\n",
       "      <th>Pool QC</th>\n",
       "      <th>Fence</th>\n",
       "      <th>Overall Qual</th>\n",
       "      <th>SalePrice</th>\n",
       "    </tr>\n",
       "  </thead>\n",
       "  <tbody>\n",
       "    <tr>\n",
       "      <th>0</th>\n",
       "      <td>IR1</td>\n",
       "      <td>AllPub</td>\n",
       "      <td>Gtl</td>\n",
       "      <td>8</td>\n",
       "      <td>Gd</td>\n",
       "      <td>TA</td>\n",
       "      <td>TA</td>\n",
       "      <td>TA</td>\n",
       "      <td>No</td>\n",
       "      <td>GLQ</td>\n",
       "      <td>...</td>\n",
       "      <td>Typ</td>\n",
       "      <td>NaN</td>\n",
       "      <td>RFn</td>\n",
       "      <td>TA</td>\n",
       "      <td>TA</td>\n",
       "      <td>Y</td>\n",
       "      <td>NaN</td>\n",
       "      <td>NaN</td>\n",
       "      <td>6</td>\n",
       "      <td>130500.0</td>\n",
       "    </tr>\n",
       "    <tr>\n",
       "      <th>1</th>\n",
       "      <td>IR1</td>\n",
       "      <td>AllPub</td>\n",
       "      <td>Gtl</td>\n",
       "      <td>5</td>\n",
       "      <td>Gd</td>\n",
       "      <td>TA</td>\n",
       "      <td>TA</td>\n",
       "      <td>Gd</td>\n",
       "      <td>No</td>\n",
       "      <td>GLQ</td>\n",
       "      <td>...</td>\n",
       "      <td>Typ</td>\n",
       "      <td>TA</td>\n",
       "      <td>RFn</td>\n",
       "      <td>TA</td>\n",
       "      <td>TA</td>\n",
       "      <td>Y</td>\n",
       "      <td>NaN</td>\n",
       "      <td>NaN</td>\n",
       "      <td>7</td>\n",
       "      <td>220000.0</td>\n",
       "    </tr>\n",
       "    <tr>\n",
       "      <th>2</th>\n",
       "      <td>Reg</td>\n",
       "      <td>AllPub</td>\n",
       "      <td>Gtl</td>\n",
       "      <td>7</td>\n",
       "      <td>TA</td>\n",
       "      <td>Gd</td>\n",
       "      <td>TA</td>\n",
       "      <td>TA</td>\n",
       "      <td>No</td>\n",
       "      <td>GLQ</td>\n",
       "      <td>...</td>\n",
       "      <td>Typ</td>\n",
       "      <td>NaN</td>\n",
       "      <td>Unf</td>\n",
       "      <td>TA</td>\n",
       "      <td>TA</td>\n",
       "      <td>Y</td>\n",
       "      <td>NaN</td>\n",
       "      <td>NaN</td>\n",
       "      <td>5</td>\n",
       "      <td>109000.0</td>\n",
       "    </tr>\n",
       "    <tr>\n",
       "      <th>3</th>\n",
       "      <td>Reg</td>\n",
       "      <td>AllPub</td>\n",
       "      <td>Gtl</td>\n",
       "      <td>5</td>\n",
       "      <td>TA</td>\n",
       "      <td>TA</td>\n",
       "      <td>TA</td>\n",
       "      <td>Gd</td>\n",
       "      <td>No</td>\n",
       "      <td>Unf</td>\n",
       "      <td>...</td>\n",
       "      <td>Typ</td>\n",
       "      <td>NaN</td>\n",
       "      <td>Fin</td>\n",
       "      <td>TA</td>\n",
       "      <td>TA</td>\n",
       "      <td>Y</td>\n",
       "      <td>NaN</td>\n",
       "      <td>NaN</td>\n",
       "      <td>5</td>\n",
       "      <td>174000.0</td>\n",
       "    </tr>\n",
       "    <tr>\n",
       "      <th>4</th>\n",
       "      <td>IR1</td>\n",
       "      <td>AllPub</td>\n",
       "      <td>Gtl</td>\n",
       "      <td>8</td>\n",
       "      <td>TA</td>\n",
       "      <td>TA</td>\n",
       "      <td>Gd</td>\n",
       "      <td>Fa</td>\n",
       "      <td>No</td>\n",
       "      <td>Unf</td>\n",
       "      <td>...</td>\n",
       "      <td>Typ</td>\n",
       "      <td>NaN</td>\n",
       "      <td>Unf</td>\n",
       "      <td>TA</td>\n",
       "      <td>TA</td>\n",
       "      <td>N</td>\n",
       "      <td>NaN</td>\n",
       "      <td>NaN</td>\n",
       "      <td>6</td>\n",
       "      <td>138500.0</td>\n",
       "    </tr>\n",
       "  </tbody>\n",
       "</table>\n",
       "<p>5 rows × 24 columns</p>\n",
       "</div>"
      ],
      "text/plain": [
       "  Lot Shape Utilities Land Slope  Overall Cond Exter Qual Exter Cond  \\\n",
       "0       IR1    AllPub        Gtl             8         Gd         TA   \n",
       "1       IR1    AllPub        Gtl             5         Gd         TA   \n",
       "2       Reg    AllPub        Gtl             7         TA         Gd   \n",
       "3       Reg    AllPub        Gtl             5         TA         TA   \n",
       "4       IR1    AllPub        Gtl             8         TA         TA   \n",
       "\n",
       "  Bsmt Cond Bsmt Qual Bsmt Exposure BsmtFin Type 1  ... Functional  \\\n",
       "0        TA        TA            No            GLQ  ...        Typ   \n",
       "1        TA        Gd            No            GLQ  ...        Typ   \n",
       "2        TA        TA            No            GLQ  ...        Typ   \n",
       "3        TA        Gd            No            Unf  ...        Typ   \n",
       "4        Gd        Fa            No            Unf  ...        Typ   \n",
       "\n",
       "  Fireplace Qu Garage Finish Garage Qual Garage Cond Paved Drive Pool QC  \\\n",
       "0          NaN           RFn          TA          TA           Y     NaN   \n",
       "1           TA           RFn          TA          TA           Y     NaN   \n",
       "2          NaN           Unf          TA          TA           Y     NaN   \n",
       "3          NaN           Fin          TA          TA           Y     NaN   \n",
       "4          NaN           Unf          TA          TA           N     NaN   \n",
       "\n",
       "  Fence Overall Qual SalePrice  \n",
       "0   NaN            6  130500.0  \n",
       "1   NaN            7  220000.0  \n",
       "2   NaN            5  109000.0  \n",
       "3   NaN            5  174000.0  \n",
       "4   NaN            6  138500.0  \n",
       "\n",
       "[5 rows x 24 columns]"
      ]
     },
     "execution_count": 254,
     "metadata": {},
     "output_type": "execute_result"
    }
   ],
   "source": [
    "# Create a dataframe for ordinal variables\n",
    "df_o = df[ordinal]\n",
    "df_o.head()"
   ]
  },
  {
   "cell_type": "code",
   "execution_count": 255,
   "metadata": {},
   "outputs": [
    {
     "name": "stdout",
     "output_type": "stream",
     "text": [
      "<class 'pandas.core.frame.DataFrame'>\n",
      "Int64Index: 2925 entries, 0 to 877\n",
      "Data columns (total 24 columns):\n",
      " #   Column          Non-Null Count  Dtype  \n",
      "---  ------          --------------  -----  \n",
      " 0   Lot Shape       2925 non-null   object \n",
      " 1   Utilities       2925 non-null   object \n",
      " 2   Land Slope      2925 non-null   object \n",
      " 3   Overall Cond    2925 non-null   int64  \n",
      " 4   Exter Qual      2925 non-null   object \n",
      " 5   Exter Cond      2925 non-null   object \n",
      " 6   Bsmt Cond       2846 non-null   object \n",
      " 7   Bsmt Qual       2846 non-null   object \n",
      " 8   Bsmt Exposure   2843 non-null   object \n",
      " 9   BsmtFin Type 1  2846 non-null   object \n",
      " 10  BsmtFin Type 2  2845 non-null   object \n",
      " 11  Heating QC      2925 non-null   object \n",
      " 12  Electrical      2924 non-null   object \n",
      " 13  Kitchen Qual    2925 non-null   object \n",
      " 14  Functional      2925 non-null   object \n",
      " 15  Fireplace Qu    1505 non-null   object \n",
      " 16  Garage Finish   2767 non-null   object \n",
      " 17  Garage Qual     2767 non-null   object \n",
      " 18  Garage Cond     2767 non-null   object \n",
      " 19  Paved Drive     2925 non-null   object \n",
      " 20  Pool QC         12 non-null     object \n",
      " 21  Fence           570 non-null    object \n",
      " 22  Overall Qual    2925 non-null   int64  \n",
      " 23  SalePrice       2047 non-null   float64\n",
      "dtypes: float64(1), int64(2), object(21)\n",
      "memory usage: 651.3+ KB\n"
     ]
    }
   ],
   "source": [
    "df_o.info()"
   ]
  },
  {
   "cell_type": "code",
   "execution_count": 256,
   "metadata": {},
   "outputs": [
    {
     "name": "stdout",
     "output_type": "stream",
     "text": [
      "<class 'pandas.core.frame.DataFrame'>\n",
      "Int64Index: 2925 entries, 0 to 877\n",
      "Data columns (total 24 columns):\n",
      " #   Column          Non-Null Count  Dtype  \n",
      "---  ------          --------------  -----  \n",
      " 0   Lot Shape       2925 non-null   int64  \n",
      " 1   Utilities       2925 non-null   int64  \n",
      " 2   Land Slope      2925 non-null   int64  \n",
      " 3   Overall Cond    2925 non-null   int64  \n",
      " 4   Exter Qual      2925 non-null   int64  \n",
      " 5   Exter Cond      2925 non-null   int64  \n",
      " 6   Bsmt Cond       2925 non-null   int64  \n",
      " 7   Bsmt Qual       2925 non-null   int64  \n",
      " 8   Bsmt Exposure   2925 non-null   int64  \n",
      " 9   BsmtFin Type 1  2925 non-null   int64  \n",
      " 10  BsmtFin Type 2  2925 non-null   int64  \n",
      " 11  Heating QC      2925 non-null   int64  \n",
      " 12  Electrical      2925 non-null   int64  \n",
      " 13  Kitchen Qual    2925 non-null   int64  \n",
      " 14  Functional      2925 non-null   int64  \n",
      " 15  Fireplace Qu    2925 non-null   int64  \n",
      " 16  Garage Finish   2925 non-null   int64  \n",
      " 17  Garage Qual     2925 non-null   int64  \n",
      " 18  Garage Cond     2925 non-null   int64  \n",
      " 19  Paved Drive     2925 non-null   int64  \n",
      " 20  Pool QC         2925 non-null   int64  \n",
      " 21  Fence           2925 non-null   int64  \n",
      " 22  Overall Qual    2925 non-null   int64  \n",
      " 23  SalePrice       2047 non-null   float64\n",
      "dtypes: float64(1), int64(23)\n",
      "memory usage: 651.3 KB\n"
     ]
    }
   ],
   "source": [
    "# TRANSFORMATIONS FOR ORDINAL VARIABLES\n",
    "df['Lot Shape'] = df['Lot Shape'].map({'IR3': 1, 'IR2': 2, 'IR1': 3, 'Reg': 4})\n",
    "df['Utilities'] = df['Utilities'].map({'ELO': 1, 'NoSeWa': 2, 'NoSewr': 3, 'AllPub': 4})\n",
    "df['Land Slope'] = df['Land Slope'].map({'Sev': 1, 'Mod': 2, 'Gtl': 3})\n",
    "df['Exter Qual'] = df['Exter Qual'].map({'Po': 1, 'Fa': 2, 'TA': 3, 'Gd': 4, 'Ex': 5})\n",
    "df['Exter Cond'] = df['Exter Cond'].map({'Po': 1, 'Fa': 2, 'TA': 3, 'Gd': 4, 'Ex': 5})\n",
    "df['Bsmt Cond'] = df['Bsmt Cond'].fillna('None')\n",
    "df['Bsmt Cond'] = df['Bsmt Cond'].map({'None' : 0, 'Po': 1, 'Fa': 2, 'TA': 3, 'Gd': 4, 'Ex': 5})\n",
    "df['Bsmt Qual'] = df['Bsmt Qual'].fillna('None')\n",
    "df['Bsmt Qual'] = df['Bsmt Qual'].map({'None' : 0, 'Po': 1, 'Fa': 2, 'TA': 3, 'Gd': 4, 'Ex': 5})\n",
    "df['Bsmt Exposure'] = df['Bsmt Exposure'].fillna('None')\n",
    "df['Bsmt Exposure'] = df['Bsmt Exposure'].map({'None' : 0, 'No': 1, 'Mn': 2, 'Av': 3, 'Gd': 4})\n",
    "df['BsmtFin Type 1'] = df['BsmtFin Type 1'].fillna('None')\n",
    "df['BsmtFin Type 1'] = df['BsmtFin Type 1'].map({'None' : 0, 'Unf': 1, 'LwQ': 2, 'Rec': 3, 'BLQ': 4, 'ALQ': 5, 'GLQ': 6})\n",
    "df['BsmtFin Type 2'] = df['BsmtFin Type 2'].fillna('None')\n",
    "df['BsmtFin Type 2'] = df['BsmtFin Type 2'].map({'None' : 0, 'Unf': 1, 'LwQ': 2, 'Rec': 3, 'BLQ': 4, 'ALQ': 5, 'GLQ': 6})\n",
    "df['Heating QC'] = df['Heating QC'].map({'Po': 1, 'Fa': 2, 'TA': 3, 'Gd': 4, 'Ex': 5})\n",
    "df['Electrical'] = df['Electrical'].fillna('SBrkr')\n",
    "df['Electrical'] = df['Electrical'].map({'Mix': 1, 'FuseP': 2, 'FuseF': 3, 'FuseA': 4, 'SBrkr': 5})\n",
    "df['Kitchen Qual'] = df['Kitchen Qual'].map({'Po': 1, 'Fa': 2, 'TA': 3, 'Gd': 4, 'Ex': 5})\n",
    "df['Functional'] = df['Functional'].map({'Sal': 1, 'Sev': 2, 'Maj2': 3, 'Maj1': 4, 'Mod': 5 , 'Min2': 6 , 'Min1': 7 , 'Typ': 8})\n",
    "df['Fireplace Qu'] = df['Fireplace Qu'].fillna('None')\n",
    "df['Fireplace Qu'] = df['Fireplace Qu'].map({'None' : 0, 'Po': 1, 'Fa': 2, 'TA': 3, 'Gd': 4, 'Ex': 5})\n",
    "df['Garage Finish'] = df['Garage Finish'].fillna('None')\n",
    "df['Garage Finish'] = df['Garage Finish'].map({'None' : 0, 'Unf': 1, 'RFn': 2, 'Fin': 3})\n",
    "df['Garage Qual'] = df['Garage Qual'].fillna('None')\n",
    "df['Garage Qual'] = df['Garage Qual'].map({'None' : 0, 'Po': 1, 'Fa': 2, 'TA': 3, 'Gd': 4, 'Ex': 5})\n",
    "df['Garage Cond'] = df['Garage Cond'].fillna('None')\n",
    "df['Garage Cond'] = df['Garage Cond'].map({'None' : 0, 'Po': 1, 'Fa': 2, 'TA': 3, 'Gd': 4, 'Ex': 5})\n",
    "df['Paved Drive'] = df['Paved Drive'].map({'N' : 1, 'P': 2, 'Y': 3})\n",
    "df['Pool QC'] = df['Pool QC'].fillna('None')\n",
    "df['Pool QC'] = df['Pool QC'].map({'None' : 0, 'Fa': 1, 'TA': 2, 'Gd': 3, 'Ex': 4})\n",
    "df['Fence'] = df['Fence'].fillna('None')\n",
    "df['Fence'] = df['Fence'].map({'None' : 0, 'MnWw': 1, 'GdWo': 2, 'MnPrv': 3, 'GdPrv': 4})\n",
    "df_o = df[ordinal]\n",
    "df_o.info()\n",
    "\n",
    "\n",
    "\n"
   ]
  },
  {
   "cell_type": "code",
   "execution_count": 257,
   "metadata": {},
   "outputs": [
    {
     "data": {
      "text/plain": [
       "<AxesSubplot:>"
      ]
     },
     "execution_count": 257,
     "metadata": {},
     "output_type": "execute_result"
    },
    {
     "data": {
      "image/png": "[encoded data removed]",
      "text/plain": [
       "<Figure size 432x288 with 2 Axes>"
      ]
     },
     "metadata": {
      "needs_background": "light"
     },
     "output_type": "display_data"
    }
   ],
   "source": [
    "# Heatmap for correlations between ordinal variables and sale price\n",
    "sns.heatmap(df_o.corr()[['SalePrice']].sort_values('SalePrice'),\n",
    "            annot=True,\n",
    "            vmin=-1,\n",
    "            vmax=1,\n",
    "            cmap='coolwarm')"
   ]
  },
  {
   "cell_type": "code",
   "execution_count": 258,
   "metadata": {},
   "outputs": [
    {
     "data": {
      "image/png": "[encoded data removed]",
      "text/plain": [
       "<Figure size 720x432 with 1 Axes>"
      ]
     },
     "metadata": {
      "needs_background": "light"
     },
     "output_type": "display_data"
    }
   ],
   "source": [
    "# Create a bar plot for overall qual variable and mean sale price\n",
    "\n",
    "qual = df.groupby('Overall Qual').SalePrice.mean()\n",
    "\n",
    "#increase size\n",
    "plt.figure(figsize = (10,6))\n",
    "\n",
    "\n",
    "qual.plot.bar(color='purple', alpha = .3)\n",
    "plt.grid(axis='y')\n",
    "\n",
    "\n",
    "# rotate lable names\n",
    "plt.xticks(rotation = 20)\n",
    "plt.xlabel('Overall Quality')\n",
    "plt.ylabel('Sale Price $')\n",
    "\n",
    "# title\n",
    "plt.title('Average Sale Price by Overall Quality Rating')\n",
    "plt.savefig(\"../figs/barplot_qualtiy.png\")"
   ]
  },
  {
   "cell_type": "markdown",
   "metadata": {},
   "source": [
    "# Explore all features"
   ]
  },
  {
   "cell_type": "code",
   "execution_count": 259,
   "metadata": {},
   "outputs": [
    {
     "data": {
      "text/plain": [
       "Index(['Id', 'Lot Frontage', 'Lot Area', 'Lot Shape', 'Utilities',\n",
       "       'Land Slope', 'Overall Qual', 'Overall Cond', 'Year Built',\n",
       "       'Year Remod/Add',\n",
       "       ...\n",
       "       'Mo Sold_7', 'Mo Sold_8', 'Mo Sold_9', 'Mo Sold_10', 'Mo Sold_11',\n",
       "       'Mo Sold_12', 'Yr Sold_2007', 'Yr Sold_2008', 'Yr Sold_2009',\n",
       "       'Yr Sold_2010'],\n",
       "      dtype='object', length=235)"
      ]
     },
     "execution_count": 259,
     "metadata": {},
     "output_type": "execute_result"
    }
   ],
   "source": [
    "df.columns"
   ]
  },
  {
   "cell_type": "code",
   "execution_count": 260,
   "metadata": {},
   "outputs": [
    {
     "data": {
      "text/plain": [
       "(2925, 235)"
      ]
     },
     "execution_count": 260,
     "metadata": {},
     "output_type": "execute_result"
    }
   ],
   "source": [
    "df.shape"
   ]
  },
  {
   "cell_type": "code",
   "execution_count": 261,
   "metadata": {},
   "outputs": [],
   "source": [
    "# Find the features most correlated with sale price\n",
    "cor = df.corr()\n",
    "#Correlation with target variable\n",
    "cor_target = abs(cor[\"SalePrice\"])\n",
    "\n",
    "#selecting features with correlation strength of 0.2 or above\n",
    "relevant_features = cor_target[cor_target>0.4]\n",
    "relevant_features = list(relevant_features.index)\n",
    "df_heat = df[relevant_features]"
   ]
  },
  {
   "cell_type": "code",
   "execution_count": 262,
   "metadata": {},
   "outputs": [
    {
     "data": {
      "image/png": "[encoded data removed]",
      "text/plain": [
       "<Figure size 864x864 with 2 Axes>"
      ]
     },
     "metadata": {
      "needs_background": "light"
     },
     "output_type": "display_data"
    }
   ],
   "source": [
    "# Plot the most correlated featuers in a heatmap with sale price\n",
    "plt.figure(figsize = (12, 12))\n",
    "corr = df_heat.corr()\n",
    "corr_sort = corr.sort_values(by = ['SalePrice'], axis = 0, ascending = False)\n",
    "corr_sort\n",
    "sns.heatmap(corr_sort[['SalePrice']], annot=True)\n",
    "plt.title('Correlation between Features and Sale Price')\n",
    "plt.subplots_adjust(left=0.3)\n",
    "\n",
    "plt.savefig(\"../figs/corr_heatmap.png\");\n",
    "\n"
   ]
  },
  {
   "cell_type": "markdown",
   "metadata": {},
   "source": [
    "# Split and save train/test dataframes"
   ]
  },
  {
   "cell_type": "code",
   "execution_count": 263,
   "metadata": {},
   "outputs": [],
   "source": [
    "# Split the dataframe back into train and test\n",
    "df_train_clean = df[df['train/test'] == 'train']\n",
    "df_test_clean = df[df['train/test'] == 'test']"
   ]
  },
  {
   "cell_type": "code",
   "execution_count": 264,
   "metadata": {},
   "outputs": [
    {
     "data": {
      "text/plain": [
       "(2047, 235)"
      ]
     },
     "execution_count": 264,
     "metadata": {},
     "output_type": "execute_result"
    }
   ],
   "source": [
    "df_train_clean.shape"
   ]
  },
  {
   "cell_type": "code",
   "execution_count": 265,
   "metadata": {},
   "outputs": [
    {
     "data": {
      "text/plain": [
       "(878, 235)"
      ]
     },
     "execution_count": 265,
     "metadata": {},
     "output_type": "execute_result"
    }
   ],
   "source": [
    "df_test_clean.shape"
   ]
  },
  {
   "cell_type": "code",
   "execution_count": 266,
   "metadata": {},
   "outputs": [],
   "source": [
    "# Drop 'train/test' column and 'SalePrice' for the test set\n",
    "df_train_clean = df_train_clean.drop(columns='train/test')\n",
    "df_test_clean = df_test_clean.drop(columns=['SalePrice', 'train/test'])\n"
   ]
  },
  {
   "cell_type": "code",
   "execution_count": 267,
   "metadata": {},
   "outputs": [
    {
     "data": {
      "text/plain": [
       "0"
      ]
     },
     "execution_count": 267,
     "metadata": {},
     "output_type": "execute_result"
    }
   ],
   "source": [
    "# Double check there are no missing values\n",
    "df_train_clean.isnull().sum().sum()"
   ]
  },
  {
   "cell_type": "code",
   "execution_count": 268,
   "metadata": {},
   "outputs": [
    {
     "data": {
      "text/plain": [
       "0"
      ]
     },
     "execution_count": 268,
     "metadata": {},
     "output_type": "execute_result"
    }
   ],
   "source": [
    "# Double check there are no missing values\n",
    "df_test_clean.isnull().sum().sum()"
   ]
  },
  {
   "cell_type": "code",
   "execution_count": 1043,
   "metadata": {},
   "outputs": [],
   "source": [
    "# Save the new datasets into their own clean files\n",
    "df_train_clean.to_csv('../datasets/train_clean_features.csv', index=False)\n",
    "df_test_clean.to_csv('../datasets/test_clean_features.csv', index=False)"
   ]
  },
  {
   "cell_type": "code",
   "execution_count": null,
   "metadata": {},
   "outputs": [],
   "source": []
  }
 ],
 "metadata": {
  "kernelspec": {
   "display_name": "Python 3",
   "language": "python",
   "name": "python3"
  },
  "language_info": {
   "codemirror_mode": {
    "name": "ipython",
    "version": 3
   },
   "file_extension": ".py",
   "mimetype": "text/x-python",
   "name": "python",
   "nbconvert_exporter": "python",
   "pygments_lexer": "ipython3",
   "version": "3.8.5"
  }
 },
 "nbformat": 4,
 "nbformat_minor": 4
}
